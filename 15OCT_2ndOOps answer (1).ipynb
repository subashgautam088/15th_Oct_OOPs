{
 "cells": [
  {
   "cell_type": "markdown",
   "id": "ef7fcf08-82e0-49ff-b1bd-1412b4cd990c",
   "metadata": {},
   "source": [
    "2nd OOPS ASSIGNMENT ANSWER"
   ]
  },
  {
   "cell_type": "markdown",
   "id": "33933be5-7068-427b-82d4-20de30c5f15e",
   "metadata": {},
   "source": [
    "##    1\n",
    "#  In Python, a constructor is a special method that is automatically called when an object of a class is created. It is used to initialize the attributes of the object. The constructor method is named `__init__` and is defined within a class.The constructor is essential for ensuring that objects have a well-defined and consistent state upon creation. It allows you to specify how objects should be initialized, making it easier to work with instances of the class throughout the program. Constructors play a crucial role in object-oriented programming by facilitating the encapsulation of data and behavior within class instances."
   ]
  },
  {
   "cell_type": "code",
   "execution_count": 1,
   "id": "9d47320f-fd87-4a00-a565-a6b5a27cdd05",
   "metadata": {},
   "outputs": [
    {
     "name": "stdout",
     "output_type": "stream",
     "text": [
      "This is a parameterless constructor.\n",
      "10\n",
      "20\n"
     ]
    }
   ],
   "source": [
    "##    2\n",
    "# Differentiate between the two:\n",
    "\n",
    "### 1. Parameterless Constructor:-\n",
    "\n",
    "# A parameterless constructor is a constructor that takes no parameters other than `self`. It is defined without any additional parameters besides the instance itself. Its purpose is to initialize the object with default values or perform some basic setup tasks without requiring any external input.\n",
    "\n",
    "##  Syntax:-  \n",
    "class ParameterlessConstructorExample:\n",
    "     def __init__(self):\n",
    "        print(\"This is a parameterless constructor.\")\n",
    "\n",
    "# Creating an object of the class\n",
    "obj = ParameterlessConstructorExample()  # Output: \"This is a parameterless constructor.\"\n",
    "\n",
    "### 2. Parameterized Constructor:-\n",
    "\n",
    "# A parameterized constructor is a constructor that takes one or more parameters in addition to `self`. It is used when you want to initialize the object's attributes with specific values provided during the object's creation. Parameterized constructors allow you to pass values from outside the class to initialize the object's attributes.\n",
    "\n",
    "#    Syntax:-  \n",
    "class ParameterizedConstructorExample:\n",
    "    def __init__(self, value1, value2):\n",
    "        self.attribute1 = value1\n",
    "        self.attribute2 = value2\n",
    "\n",
    "# Creating an object of the class with specific values\n",
    "obj = ParameterizedConstructorExample(10, 20)\n",
    "print(obj.attribute1)  # Output: 10\n",
    "print(obj.attribute2)  # Output: 20\n"
   ]
  },
  {
   "cell_type": "code",
   "execution_count": 6,
   "id": "c6cdec9f-ae9f-4329-b15c-6c174b45424d",
   "metadata": {},
   "outputs": [],
   "source": [
    "###   3\n",
    "# In Python, a constructor is defined using a special method called __init__. This method is automatically called when a new instance of a class is created. Syntax :-\n",
    "class ClassName:\n",
    "  def __init__(self, parameter1, parameter2):\n",
    "      # initialization code\n",
    "      self.attribute1 = parameter1\n",
    "      self.attribute2 = parameter2\n",
    "      # ... more initialization code\n",
    "\n",
    "# Creating an object of the class\n",
    "obj = ClassName(4, 4544)"
   ]
  },
  {
   "cell_type": "markdown",
   "id": "b46d1b19-4e6b-46d7-90ca-d2ddc8ac1b57",
   "metadata": {},
   "source": [
    "####    4\n",
    "# __init__ method is called a constructor and this method is  automatically called when a new instance of a class is created.The name __init__ stands for \"initialize\" and is a reserved method name in Python classes. It's role are :- \n",
    "#1 Initialization:- The role of the __init__ method is to initialize the attributes of the object.\n",
    "#2 Automatic Invocation:- When you create an instance of a class, the __init__ method is automatically invoked without needing to explicitly call it.\n",
    "#3 Parameters:- The __init__ method takes the instance itself (self) as its first parameter, followed by any additional parameters you want to pass when creating an object.\n",
    "#4 Attributes:- Inside the __init__ method, you can initialize the object's attributes by assigning values to them using the self keyword.\n"
   ]
  },
  {
   "cell_type": "code",
   "execution_count": 7,
   "id": "ca55fe71-f4f7-4a56-a0d8-e511d96d928b",
   "metadata": {},
   "outputs": [
    {
     "name": "stdout",
     "output_type": "stream",
     "text": [
      "Name: Alice\n",
      "Age: 30\n"
     ]
    }
   ],
   "source": [
    "####     5\n",
    "class Persons:\n",
    "  def __init__(self, name, age):\n",
    "      self.name = name\n",
    "      self.age = age\n",
    "\n",
    "# Creating an object of the class Person\n",
    "person1 = Persons(\"Alice\", 30)\n",
    "\n",
    "# Accessing object attributes\n",
    "print(\"Name:\", person1.name)\n",
    "print(\"Age:\", person1.age)"
   ]
  },
  {
   "cell_type": "code",
   "execution_count": 8,
   "id": "3194dc27-243c-4a14-a4dc-eb9c6a7a4799",
   "metadata": {},
   "outputs": [
    {
     "name": "stdout",
     "output_type": "stream",
     "text": [
      "Constructor called with value: 4\n"
     ]
    }
   ],
   "source": [
    "####  6\n",
    "# In Python, you cannot call a constructor explicitly from outside the class. The constructor, __init__, is automatically called when you create an object of the class. It is invoked implicitly and cannot be directly called like a regular method. Example:-\n",
    "class MyClasses:\n",
    "  def __init__(self, value):\n",
    "      self.value = value\n",
    "      print(\"Constructor called with value:\", self.value)\n",
    "\n",
    "obj = MyClasses(4) # It automatically called constructor.\n"
   ]
  },
  {
   "cell_type": "code",
   "execution_count": 9,
   "id": "c85a3a3b-b486-4fcf-8a71-510a77b04357",
   "metadata": {},
   "outputs": [
    {
     "name": "stdout",
     "output_type": "stream",
     "text": [
      "Person 1:\n",
      "Name: Alice\n",
      "Age: 30\n",
      "Person 2:\n",
      "Name: Bob\n",
      "Age: 25\n"
     ]
    }
   ],
   "source": [
    "#####   7\n",
    "# In Python, the self parameter in constructors represents the instance of the class. It is a convention, though not a strict requirement, to name the first parameter of instance methods as self.\n",
    "\n",
    "# The self parameter is help to differentiates between instance variables (attributes) and local variables within the methods. By using self, you can refer to the instance variables, ensuring that you are working with the specific instance of the object.\n",
    "# For Example:-\n",
    "class Person:\n",
    "  def __init__(self, name, age):\n",
    "      self.name = name  # instance variable\n",
    "      self.age = age    # instance variable\n",
    "\n",
    "  def display_info(self):\n",
    "      print(\"Name:\", self.name)\n",
    "      print(\"Age:\", self.age)\n",
    "\n",
    "# Creating objects of the class Person\n",
    "person1 = Person(\"Alice\", 30)\n",
    "person2 = Person(\"Bob\", 25)\n",
    "\n",
    "# Accessing object attributes using the display_info method\n",
    "print(\"Person 1:\")\n",
    "person1.display_info()\n",
    "print(\"Person 2:\")\n",
    "person2.display_info()"
   ]
  },
  {
   "cell_type": "code",
   "execution_count": 10,
   "id": "e5455674-8f76-45fc-9dcc-6edc709edc08",
   "metadata": {},
   "outputs": [
    {
     "name": "stdout",
     "output_type": "stream",
     "text": [
      "This is a method of MyClass.\n",
      "Name: Alice\n",
      "Age: 30\n"
     ]
    }
   ],
   "source": [
    "####    8\n",
    "# In Python, all classes have a default constructor, even if you haven't explicitly defined one. The default constructor is the `__init__` method that initializes the object's attributes when you create an instance of the class.\n",
    "\n",
    "# For Example:- \n",
    "class MyClass:\n",
    "    def some_method(self):\n",
    "        print(\"This is a method of MyClass.\")\n",
    "\n",
    "# Creating an object of the class without a custom constructor\n",
    "obj = MyClass()\n",
    "\n",
    "# Calling a method of the class\n",
    "obj.some_method()\n",
    "\n",
    "# However, if you want to perform specific initialization when an object is created, you can define your own custom constructor by creating an __init__ method within the class. Custom constructors are used when you want to initialize the object's attributes with specific values, establish connections, open files, or perform any other setup tasks.\n",
    "\n",
    "# For Example:-\n",
    "class Person:\n",
    "    def __init__(self, name, age):\n",
    "        self.name = name\n",
    "        self.age = age\n",
    "\n",
    "    def display_info(self):\n",
    "        print(\"Name:\", self.name)\n",
    "        print(\"Age:\", self.age)\n",
    "\n",
    "# Creating an object of the class with a custom constructor\n",
    "person = Person(\"Alice\", 30)\n",
    "\n",
    "# Accessing object attributes using the display_info method\n",
    "person.display_info()"
   ]
  },
  {
   "cell_type": "code",
   "execution_count": 11,
   "id": "182ade4e-53ce-4978-8dbb-650218785159",
   "metadata": {},
   "outputs": [
    {
     "name": "stdout",
     "output_type": "stream",
     "text": [
      "The area of rectangle is 24\n"
     ]
    }
   ],
   "source": [
    "####     9\n",
    "class Rectangle:\n",
    "  def __init__(self,width,height):\n",
    "    self.width = width\n",
    "    self.height = height\n",
    "\n",
    "  # Making function to calculate the area\n",
    "  def calculate_area(self):\n",
    "    print(f\"The area of rectangle is {self.width * self.height}\")\n",
    "\n",
    "\n",
    "# Making object\n",
    "rectangle = Rectangle(6,4)\n",
    "rectangle.calculate_area()"
   ]
  },
  {
   "cell_type": "code",
   "execution_count": 12,
   "id": "d13e2be7-2545-455f-9030-f87fddceee01",
   "metadata": {},
   "outputs": [
    {
     "name": "stdout",
     "output_type": "stream",
     "text": [
      "1 2\n",
      "10 None\n",
      "5 15\n"
     ]
    }
   ],
   "source": [
    "#####     10\n",
    "# In Python, a class can have multiple constructors using class methods. Unlike some other programming languages, Python does not support method overloading in the traditional sense. However, you can achieve similar functionality by defining class methods that create instances of the class with different sets of parameters. These class methods can act as alternative constructors. FOR EXAMPLE :-\n",
    "class MyClass:\n",
    "  def __init__(self, param1, param2):\n",
    "      self.param1 = param1\n",
    "      self.param2 = param2\n",
    "\n",
    "  @classmethod\n",
    "  def create_instance_with_param1(cls, param1):\n",
    "      # Create an instance of the class with param1, defaulting param2 to None\n",
    "      return cls(param1, None)\n",
    "\n",
    "  @classmethod\n",
    "  def create_instance_with_params(cls, param1, param2):\n",
    "      # Create an instance of the class with both parameters\n",
    "      return cls(param1, param2)\n",
    "\n",
    "# Using the constructors\n",
    "obj1 = MyClass(1, 2)  # Using the regular constructor with both parameters\n",
    "obj2 = MyClass.create_instance_with_param1(10)  # Using the alternative constructor with param1\n",
    "obj3 = MyClass.create_instance_with_params(5, 15)  # Using the alternative constructor with both parameters\n",
    "\n",
    "print(obj1.param1, obj1.param2)\n",
    "print(obj2.param1, obj2.param2)\n",
    "print(obj3.param1, obj3.param2)"
   ]
  },
  {
   "cell_type": "markdown",
   "id": "16ed8693-8a85-4d30-baeb-b3074f835fae",
   "metadata": {},
   "source": [
    "####     11\n",
    "# Method overloading is a programming concept where you can define multiple methods in a class with the same name but with different parameters or different numbers of parameters. The method that gets called is based on the number and types of parameters passed during the method invocation. Python does not allow you to define multiple methods with the same name in a class with different parameter lists. When you define a method with the same name multiple times, the latest definition overrides the previous ones."
   ]
  },
  {
   "cell_type": "code",
   "execution_count": 13,
   "id": "e2f0400c-1cc2-4003-9d8c-07b335319343",
   "metadata": {},
   "outputs": [
    {
     "name": "stdout",
     "output_type": "stream",
     "text": [
      "ParentClass constructor called with param1: 10\n",
      "ChildClass constructor called with param2: 20\n"
     ]
    }
   ],
   "source": [
    "####     12\n",
    "# In Python, the super() function is used to call a method from a parent class. When you create a constructor in a subclass, you can use super() to call the constructor of the parent class. This is particularly useful when the parent class has some instance variables or other setup code that needs to be executed before the child class is initialized. FOR EXAMPLE :-\n",
    "class ParentClass:\n",
    "  def __init__(self, param1):\n",
    "      self.param1 = param1\n",
    "      print(\"ParentClass constructor called with param1:\", self.param1)\n",
    "\n",
    "class ChildClass(ParentClass):\n",
    "  def __init__(self, param1, param2):\n",
    "      super().__init__(param1)  # Calling the constructor of the parent class\n",
    "      self.param2 = param2\n",
    "      print(\"ChildClass constructor called with param2:\", self.param2)\n",
    "\n",
    "# Creating an instance of the child class\n",
    "child_obj = ChildClass(10, 20)"
   ]
  },
  {
   "cell_type": "code",
   "execution_count": 14,
   "id": "1ac70ac7-0ea0-4b18-b78a-905816bc7316",
   "metadata": {},
   "outputs": [
    {
     "name": "stdout",
     "output_type": "stream",
     "text": [
      "Book Title : Harry Potter\n",
      "Author name : J.K. Rowling\n",
      "Publishing year : 1999\n"
     ]
    }
   ],
   "source": [
    "####      13\n",
    "class Book:\n",
    "  def __init__(self,title,author,published_year):\n",
    "    self.title = title\n",
    "    self.author = author\n",
    "    self.published_year = published_year\n",
    "\n",
    "  def display_details(self):\n",
    "    print(\"Book Title :\",self.title)\n",
    "    print(\"Author name :\",self.author)\n",
    "    print(\"Publishing year :\",self.published_year)\n",
    "   \n",
    "\n",
    "book = Book(\"Harry Potter\",\"J.K. Rowling\",1999)\n",
    "book.display_details()"
   ]
  },
  {
   "cell_type": "markdown",
   "id": "c92af671-2132-4a6b-bfe2-c7d82fdc3d8a",
   "metadata": {},
   "source": [
    "####      14\n",
    "# Constructors, defined with the __init__ method name, are special methods used for initializing objects of a class. They are automatically called when a new instance of the class is created and are primarily responsible for setting up the initial state of the object by initializing its attributes. On the other hand, Regular method are defined like any other function within a class and are used to define the behavior of objects. These methods can perform various operations on the object's attributes, modify its state, or compute and return values based on the object's data."
   ]
  },
  {
   "cell_type": "markdown",
   "id": "bcf0c8cf-c2a4-4ba7-b2d1-2f30a0658cca",
   "metadata": {},
   "source": [
    "####     15\n",
    "# The self parameter refers to the instance of the class being created. It acts as a reference to the instance itself.Instance variables are attributes specific to each object created from a class. They store the state of the object. In Python, you define these instance variables within the __init__ method, which serves as the constructor. The self parameter is used to refer to these instance variables and bind them to the object being created."
   ]
  },
  {
   "cell_type": "code",
   "execution_count": 15,
   "id": "5e9df264-a718-4d7e-a745-9b837659f340",
   "metadata": {},
   "outputs": [
    {
     "name": "stdout",
     "output_type": "stream",
     "text": [
      "10\n",
      "True\n"
     ]
    }
   ],
   "source": [
    "####   16\n",
    "# In Python, you can prevent a class from having multiple instances by implementing a design pattern called the Singleton pattern. The Singleton pattern ensures that a class has only one instance and provides a global point of access to that instance. To achieve this, you can create a class variable to store the single instance and modify the constructor (__init__ method) to return the existing instance if it has already been created. For Example \n",
    "class SingletonClass:\n",
    "  _instance = None  # Class variable to store the single instance\n",
    "\n",
    "  def __new__(cls):\n",
    "      if cls._instance is None:\n",
    "          cls._instance = super(SingletonClass, cls).__new__(cls)\n",
    "          cls._instance.param = None  # Initializing instance variable\n",
    "      return cls._instance\n",
    "\n",
    "  def set_param(self, value):\n",
    "      self.param = value\n",
    "\n",
    "  def get_param(self):\n",
    "      return self.param\n",
    "\n",
    "\n",
    "# Example usage of the SingletonClass\n",
    "singleton_obj1 = SingletonClass()\n",
    "singleton_obj1.set_param(10)\n",
    "\n",
    "singleton_obj2 = SingletonClass()\n",
    "print(singleton_obj2.get_param())\n",
    "\n",
    "# Both objects refer to the same instance\n",
    "print(singleton_obj1 is singleton_obj2)"
   ]
  },
  {
   "cell_type": "code",
   "execution_count": 16,
   "id": "3070c05e-1ac7-4232-846a-0e46e8d94213",
   "metadata": {},
   "outputs": [
    {
     "name": "stdout",
     "output_type": "stream",
     "text": [
      "Subjects for Student 1: ['Math', 'Science', 'History', 'English', 'Hindi', 'Drawing']\n"
     ]
    }
   ],
   "source": [
    "####     17\n",
    "class Student:\n",
    "  def __init__(self, subjects):\n",
    "      self.subjects = subjects\n",
    "\n",
    "# Example usage of the Student class\n",
    "subjects_list = [\"Math\", \"Science\", \"History\", \"English\",\"Hindi\",\"Drawing\"]\n",
    "student1 = Student(subjects_list)\n",
    "\n",
    "# Accessing the subjects attribute\n",
    "print(\"Subjects for Student 1:\", student1.subjects)"
   ]
  },
  {
   "cell_type": "markdown",
   "id": "5af1c33c-52d8-4544-b104-d188add8299f",
   "metadata": {},
   "source": [
    "####    18\n",
    "# In Python, the __del__ method is a special method that serves as the destructor of a class. The purpose of the __del__ method is to define the cleanup actions that should be performed before an object is deleted from memory. This could include releasing resources, closing files, or performing any necessary cleanup operations."
   ]
  },
  {
   "cell_type": "code",
   "execution_count": 17,
   "id": "c360a038-7c2e-480c-a3e4-b1900494cbd4",
   "metadata": {},
   "outputs": [
    {
     "name": "stdout",
     "output_type": "stream",
     "text": [
      "Person class constructor called with name: Alice\n",
      "Student class constructor called with ID: S12345\n",
      "Person class constructor called with name: Bob\n",
      "Teacher class constructor called with ID: T6789\n"
     ]
    }
   ],
   "source": [
    "####     19\n",
    "# Constructor chaining, also known as constructor delegation, is the concept of calling one constructor from another within the same class hierarchy. In Python, this is achieved using the super() function to call the constructor of the parent class. Constructor chaining is useful when you have multiple constructors with different parameters, and you want to avoid duplicating initialization code across them.FOR EXAMPLE :-\n",
    "class Person:\n",
    "  def __init__(self, name):\n",
    "      self.name = name\n",
    "      print(f\"Person class constructor called with name: {self.name}\")\n",
    "\n",
    "class Student(Person):\n",
    "  def __init__(self, name, student_id):\n",
    "      super().__init__(name)  # Calling the constructor of the parent class (Person)\n",
    "      self.student_id = student_id\n",
    "      print(f\"Student class constructor called with ID: {self.student_id}\")\n",
    "\n",
    "class Teacher(Person):\n",
    "  def __init__(self, name, employee_id):\n",
    "      super().__init__(name)  # Calling the constructor of the parent class (Person)\n",
    "      self.employee_id = employee_id\n",
    "      print(f\"Teacher class constructor called with ID: {self.employee_id}\")\n",
    "\n",
    "# Example usage of the classes with constructor chaining\n",
    "student = Student(\"Alice\", \"S12345\")\n",
    "teacher = Teacher(\"Bob\", \"T6789\")"
   ]
  },
  {
   "cell_type": "code",
   "execution_count": 18,
   "id": "19505537-5a7a-4a37-8f11-104b4a157e8b",
   "metadata": {},
   "outputs": [
    {
     "name": "stdout",
     "output_type": "stream",
     "text": [
      "Car Information: Make - Toyota, Model - Corolla\n"
     ]
    }
   ],
   "source": [
    "####    20\n",
    "class Car:\n",
    "  def __init__(self, make, model):\n",
    "      self.make = make\n",
    "      self.model = model\n",
    "\n",
    "  def display_info(self):\n",
    "      print(f\"Car Information: Make - {self.make}, Model - {self.model}\")\n",
    "\n",
    "# Creating an instance of the Car class\n",
    "car1 = Car(\"Toyota\", \"Corolla\")\n",
    "\n",
    "# Displaying car information using the display_info method\n",
    "car1.display_info()"
   ]
  },
  {
   "cell_type": "markdown",
   "id": "e5fe5fa3-6aca-4b2b-9194-e97ad7bb8d55",
   "metadata": {},
   "source": [
    "############         INHERITANCE        ####################"
   ]
  },
  {
   "cell_type": "code",
   "execution_count": 19,
   "id": "bf4d8e9c-61d4-4ed5-aad6-acba61645ef2",
   "metadata": {},
   "outputs": [
    {
     "name": "stdout",
     "output_type": "stream",
     "text": [
      "Buddy\n",
      "Woof!\n"
     ]
    }
   ],
   "source": [
    "####     1\n",
    "# Inheritance is a fundamental concept in object-oriented programming (OOP) that allows a class (called a subclass or derived class) to inherit properties and behaviors (attributes and methods) from another class (called a superclass or base class). Inheritance promotes code reuse and helps create a relationship between classes, allowing one class to inherit the characteristics of another class. FOR EXAMPLE :-\n",
    "class Animal:\n",
    "  def __init__(self, name):\n",
    "      self.name = name\n",
    "\n",
    "  def speak(self):\n",
    "      pass\n",
    "class Dog(Animal):\n",
    "  def speak(self):\n",
    "      return \"Woof!\"\n",
    "my_dog = Dog(\"Buddy\")\n",
    "print(my_dog.name)\n",
    "print(my_dog.speak()) "
   ]
  },
  {
   "cell_type": "code",
   "execution_count": 20,
   "id": "1689a72c-f5b0-46f6-9a46-477121eb376f",
   "metadata": {},
   "outputs": [
    {
     "name": "stdout",
     "output_type": "stream",
     "text": [
      "Woof!\n",
      "Woof!\n"
     ]
    }
   ],
   "source": [
    "####    2\n",
    "# Single Inheritance:\n",
    "# In single inheritance, a class can inherit from only one superclass. This means that a derived class can have only one immediate parent class. Here's an example of single inheritance:\n",
    "class Animal:\n",
    "  def speak(self):\n",
    "      pass\n",
    "\n",
    "class Dog(Animal):\n",
    "  def speak(self):\n",
    "      return \"Woof!\"\n",
    "\n",
    "# Creating an object of the Dog class\n",
    "my_dog = Dog()\n",
    "print(my_dog.speak())\n",
    "\n",
    "# Multiple Inheritance:\n",
    "# Multiple inheritance allows a class to inherit from more than one superclass. This means that a derived class can have multiple parent classes. Here's an example of multiple inheritance:\n",
    "class Animal:\n",
    "  def speak(self):\n",
    "      pass\n",
    "\n",
    "class Mammal:\n",
    "  def give_birth(self):\n",
    "      pass\n",
    "\n",
    "class Dog(Animal, Mammal):\n",
    "  def speak(self):\n",
    "      return \"Woof!\"\n",
    "\n",
    "# Creating an object of the Dog class\n",
    "my_dog = Dog()\n",
    "print(my_dog.speak())"
   ]
  },
  {
   "cell_type": "code",
   "execution_count": 21,
   "id": "a97f2295-d477-47f6-a8f3-036ae1e6d593",
   "metadata": {},
   "outputs": [
    {
     "name": "stdout",
     "output_type": "stream",
     "text": [
      "Color: Red\n",
      "Speed: 60\n",
      "Brand: Toyota\n"
     ]
    }
   ],
   "source": [
    "####     3\n",
    "class Vehicle:\n",
    "  def __init__(self,color,speed):\n",
    "    self.color = color\n",
    "    self.speed = speed\n",
    "\n",
    "class Car(Vehicle):\n",
    "  def __init__(self,color,speed,brand):\n",
    "    super().__init__(color,speed)\n",
    "    self.brand = brand\n",
    "    \n",
    "my_car = Car(color=\"Red\", speed=60, brand=\"Toyota\")\n",
    "\n",
    "# Accessing attributes of the Car object\n",
    "print(\"Color:\", my_car.color)\n",
    "print(\"Speed:\", my_car.speed)\n",
    "print(\"Brand:\", my_car.brand)"
   ]
  },
  {
   "cell_type": "code",
   "execution_count": 22,
   "id": "4877d130-0123-448c-8522-6e4f0d82b199",
   "metadata": {},
   "outputs": [
    {
     "name": "stdout",
     "output_type": "stream",
     "text": [
      "The dog barks.\n"
     ]
    }
   ],
   "source": [
    "####    4\n",
    "# Method overriding is a feature in object-oriented programming where a subclass provides a specific implementation of a method that is already defined in its superclass. When a method in a subclass has the same name, parameters, and return type as a method in its superclass, the method in the subclass overrides the method in the superclass. This allows the subclass to provide its own implementation of the method while still maintaining the method signature from the superclass. Here's an example of method overriding:\n",
    "class Animal:\n",
    "  def speak(self):\n",
    "    print(\"The animal speaks.\")\n",
    "\n",
    "class Dog(Animal):\n",
    "  def speak(self):\n",
    "    print(\"The dog barks.\")\n",
    "\n",
    "# Creating an object of the Dog class\n",
    "my_dog = Dog()\n",
    "my_dog.speak()"
   ]
  },
  {
   "cell_type": "code",
   "execution_count": 23,
   "id": "7621cbbc-d3cf-4d3d-936b-cee16901fb7b",
   "metadata": {},
   "outputs": [
    {
     "name": "stdout",
     "output_type": "stream",
     "text": [
      "Name: Hero\n",
      "Age: 10\n"
     ]
    }
   ],
   "source": [
    "####    5\n",
    "# In Python, you can access the methods and attributes of a parent class from a child class by using the super() function. The super() function returns a temporary object of the superclass, allowing you to call its methods and access its attributes. FOR EXAMPLE :-\n",
    "class Parent:\n",
    "  def __init__(self, name):\n",
    "      self.name = name\n",
    "\n",
    "  def display_info(self):\n",
    "      print(\"Name:\", self.name)\n",
    "\n",
    "class Child(Parent):\n",
    "  def __init__(self, name, age):\n",
    "      super().__init__(name)  # Call the constructor of the parent class\n",
    "      self.age = age\n",
    "\n",
    "  def display_info(self):\n",
    "      super().display_info()  # Call the display_info() method of the parent class\n",
    "      print(\"Age:\", self.age)\n",
    "\n",
    "# Creating an object of the Child class\n",
    "child_obj = Child(name=\"Hero\", age=10)\n",
    "\n",
    "# Calling the overridden display_info() method in the Child class\n",
    "child_obj.display_info()"
   ]
  },
  {
   "cell_type": "code",
   "execution_count": 24,
   "id": "879076d5-250d-4972-90be-a7d49e4a0b98",
   "metadata": {},
   "outputs": [
    {
     "name": "stdout",
     "output_type": "stream",
     "text": [
      "Name: Buddy\n",
      "Breed: Golden Retriever\n",
      "Some generic sound\n",
      "Woof! Woof!\n"
     ]
    }
   ],
   "source": [
    "####   6\n",
    "# The super() function in Python is used to call a method from a parent class, allowing you to invoke methods or access attributes from the superclass within a subclass. It is particularly useful in inheritance scenarios where you want to extend or override the behavior of methods defined in the parent class. It is used when and why in the following ways:-\n",
    "# Method overriding \n",
    "# Constructor chaining\n",
    "# Maintaining Consistency\n",
    "\n",
    "# FOR EXAMPLE :-\n",
    "class Animal:\n",
    "  def __init__(self, name):\n",
    "      self.name = name\n",
    "\n",
    "  def make_sound(self):\n",
    "      print(\"Some generic sound\")\n",
    "\n",
    "class Dog(Animal):\n",
    "  def __init__(self, name, breed):\n",
    "      super().__init__(name)  # Call the constructor of the parent class (Animal)\n",
    "      self.breed = breed\n",
    "\n",
    "  def make_sound(self):\n",
    "      super().make_sound()  # Call the make_sound() method of the parent class (Animal)\n",
    "      print(\"Woof! Woof!\")\n",
    "\n",
    "# Creating a Dog object\n",
    "my_dog = Dog(name=\"Buddy\", breed=\"Golden Retriever\")\n",
    "\n",
    "# Accessing attributes and invoking methods\n",
    "print(\"Name:\", my_dog.name)  # Output: Name: Buddy\n",
    "print(\"Breed:\", my_dog.breed)  # Output: Breed: Golden Retriever\n",
    "my_dog.make_sound()"
   ]
  },
  {
   "cell_type": "code",
   "execution_count": 25,
   "id": "306c0d32-b7b3-4fa4-82a9-4eb1206c1e85",
   "metadata": {},
   "outputs": [
    {
     "name": "stdout",
     "output_type": "stream",
     "text": [
      "Dog says Woof!\n",
      "Cat says Meow!\n"
     ]
    }
   ],
   "source": [
    "####    7\n",
    "class Animal:\n",
    "  def speak(self):\n",
    "    pass\n",
    "\n",
    "class Dog(Animal):\n",
    "  def speak(self):\n",
    "    print(\"Dog says Woof!\")\n",
    "\n",
    "class Cat(Animal):\n",
    "  def speak(self):\n",
    "    print(\"Cat says Meow!\")\n",
    "\n",
    "# Creating an object of the Dog class\n",
    "my_dog = Dog()\n",
    "my_dog.speak()\n",
    "\n",
    "my_cat = Cat()\n",
    "my_cat.speak()"
   ]
  },
  {
   "cell_type": "code",
   "execution_count": 26,
   "id": "f0f4e2f0-a9b1-483f-9181-00c5197ea47a",
   "metadata": {},
   "outputs": [
    {
     "name": "stdout",
     "output_type": "stream",
     "text": [
      "True\n",
      "True\n",
      "True\n",
      "True\n",
      "True\n",
      "False\n"
     ]
    }
   ],
   "source": [
    "####    8\n",
    "# In Python, the isinstance() function is used to determine whether an object is an instance of a particular class or a subclass thereof. It checks if an object is an instance of a specified class or a tuple of classes. The function returns True if the object is an instance of any of the specified classes or their subclasses; otherwise, it returns False. The isinstance() function is particularly useful in the context of inheritance because it allows you to check the type of an object in a way that takes inheritance into account. Here's how it works:\n",
    "class Animal:\n",
    "  pass\n",
    "\n",
    "class Dog(Animal):\n",
    "  pass\n",
    "\n",
    "class Cat(Animal):\n",
    "  pass\n",
    "\n",
    "# Creating objects of the classes\n",
    "animal_obj = Animal()\n",
    "dog_obj = Dog()\n",
    "cat_obj = Cat()\n",
    "\n",
    "# Using isinstance() to check the object's type\n",
    "print(isinstance(animal_obj, Animal))\n",
    "print(isinstance(dog_obj, Dog))\n",
    "print(isinstance(dog_obj, Animal))\n",
    "print(isinstance(cat_obj, Cat))\n",
    "print(isinstance(cat_obj, Animal))\n",
    "print(isinstance(animal_obj, Dog))"
   ]
  },
  {
   "cell_type": "code",
   "execution_count": 27,
   "id": "7288e5d2-713d-450e-a00a-2df6dcc7bca9",
   "metadata": {},
   "outputs": [
    {
     "name": "stdout",
     "output_type": "stream",
     "text": [
      "True\n",
      "True\n",
      "False\n"
     ]
    }
   ],
   "source": [
    "####    9\n",
    "# The issubclass() function in Python is used to check whether a given class is a subclass of another class. It helps you determine if a particular class is derived from another class. The function returns True if the first argument is a subclass of the second argument, and False otherwise.\n",
    "\n",
    "# Here's the syntax for issubclass():  issubclass(class, classinfo)\n",
    "# Here's an example:\n",
    "class Animal:\n",
    "  pass\n",
    "\n",
    "class Dog(Animal):\n",
    "  pass\n",
    "\n",
    "class Cat(Animal):\n",
    "  pass\n",
    "\n",
    "# Checking if Dog is a subclass of Animal\n",
    "print(issubclass(Dog, Animal))\n",
    "\n",
    "# Checking if Cat is a subclass of Animal\n",
    "print(issubclass(Cat, Animal))\n",
    "\n",
    "# Checking if Animal is a subclass of Dog (which is not the case)\n",
    "print(issubclass(Animal, Dog))"
   ]
  },
  {
   "cell_type": "markdown",
   "id": "24e55bc9-f298-48e4-a09c-76599731b7eb",
   "metadata": {},
   "source": [
    "####    10\n",
    "# In Python, constructor inheritance refers to the process by which a child class can inherit the constructor (also known as the initializer) of its parent class. When a child class is created, it can automatically inherit the constructor of its parent class, allowing it to initialize the attributes defined in the parent class. When a child class is created without its own constructor, it implicitly inherits the constructor of its parent class. If the child class defines its own constructor, it can explicitly call the constructor of the parent class using the super() function to ensure proper initialization of the attributes inherited from the parent class."
   ]
  },
  {
   "cell_type": "code",
   "execution_count": 28,
   "id": "f9b9bfc8-7323-48d8-97e8-d66aa5c34498",
   "metadata": {},
   "outputs": [
    {
     "name": "stdout",
     "output_type": "stream",
     "text": [
      "Area of the circle: 78.5\n",
      "Area of the rectangle: 24\n"
     ]
    }
   ],
   "source": [
    "####     11\n",
    "class Shape:\n",
    "    def area(self):\n",
    "        pass\n",
    "\n",
    "class Circle(Shape):\n",
    "    def __init__(self, radius):\n",
    "        self.radius = radius\n",
    "\n",
    "    def area(self):\n",
    "        return 3.14 * self.radius**2\n",
    "\n",
    "class Rectangle(Shape):\n",
    "    def __init__(self, width, height):\n",
    "        self.width = width\n",
    "        self.height = height\n",
    "\n",
    "    def area(self):\n",
    "        return self.width * self.height\n",
    "\n",
    "# Creating objects of the child classes\n",
    "circle = Circle(radius=5)\n",
    "rectangle = Rectangle(width=4, height=6)\n",
    "\n",
    "# Calculating and displaying the areas of the shapes\n",
    "print(\"Area of the circle:\", circle.area())\n",
    "print(\"Area of the rectangle:\", rectangle.area())"
   ]
  },
  {
   "cell_type": "code",
   "execution_count": 29,
   "id": "d2a96c90-9376-493b-8b74-62b95e54b5ef",
   "metadata": {},
   "outputs": [
    {
     "name": "stdout",
     "output_type": "stream",
     "text": [
      "Rectangle area  15\n"
     ]
    }
   ],
   "source": [
    "####      12\n",
    "# Abstract Base Classes (ABCs) in Python provide a way to define abstract interfaces for classes. An abstract class is a class that cannot be instantiated on its own and is meant to be subclassed by other classes. ABCs allow you to define abstract methods, which are methods without an implementation, ensuring that any concrete subclass must provide an implementation for those methods. ABCs help enforce a common interface and provide a guideline for derived classes. EXAMPLE using 'abc' module.\n",
    "\n",
    "from abc import ABC, abstractmethod\n",
    "\n",
    "\n",
    "class Shape(ABC):\n",
    "    @abstractmethod\n",
    "    def area(self):\n",
    "        pass\n",
    "\n",
    "class Rectangle(Shape):\n",
    "    def __init__(self, width, height):\n",
    "        self.width = width\n",
    "        self.height = height\n",
    "\n",
    "    def area(self):\n",
    "        return self.width * self.height\n",
    "\n",
    "# Example usage\n",
    "rectangle = Rectangle(5, 3)\n",
    "print(\"Rectangle area \",rectangle.area())"
   ]
  },
  {
   "cell_type": "markdown",
   "id": "fb382430-e485-4d54-af38-130b9bf13fac",
   "metadata": {},
   "source": [
    "####   13\n",
    "# In Python, you can prevent a child class from modifying certain attributes or methods inherited from a parent class by making those attributes or methods private or protected. This ensures that they cannot be directly accessed or modified by the child class. Here's how you can achieve this:-\n",
    "\n",
    "# 1. Private Attributes and Methods:- By convention, attributes and methods prefixed with a double underscore (e.g., __attribute or __method()) in a class are considered private. Private attributes and methods are not accessible from outside the class. By making an attribute or method private in the parent class, you prevent the child class from directly modifying it.\n",
    "\n",
    "# 2. Protected Attributes and Methods:- By convention, attributes and methods prefixed with a single underscore (e.g., _attribute or _method()) in a class are considered protected. Protected attributes and methods are accessible from outside the class, but not directly modified. By making an attribute or method protected in the parent class, you prevent the child class from directly modifying it."
   ]
  },
  {
   "cell_type": "code",
   "execution_count": 30,
   "id": "030b2779-9284-4407-a865-01264a5bf31a",
   "metadata": {},
   "outputs": [
    {
     "name": "stdout",
     "output_type": "stream",
     "text": [
      "Name John cena Salary 5000\n",
      "Name Randy Orton Salary 8000 Department Sales\n"
     ]
    }
   ],
   "source": [
    "####   14\n",
    "class Employee:\n",
    "    def __init__(self, name, salary):\n",
    "        self.name = name\n",
    "        self.salary = salary\n",
    "\n",
    "class Manager(Employee):\n",
    "    def __init__(self, name, salary, department):\n",
    "        super().__init__(name, salary)\n",
    "        self.department = department\n",
    "\n",
    "# Example usage\n",
    "employee = Employee(\"John cena\", 5000)\n",
    "manager = Manager(\"Randy Orton\", 8000, \"Sales\")\n",
    "print(\"Name\",employee.name,\"Salary\", employee.salary)\n",
    "print(\"Name\",manager.name,\"Salary\", manager.salary,\"Department\", manager.department)"
   ]
  },
  {
   "cell_type": "code",
   "execution_count": 31,
   "id": "5b0f24d4-a3f9-433d-a5a7-4b6bec30294c",
   "metadata": {},
   "outputs": [
    {
     "name": "stdout",
     "output_type": "stream",
     "text": [
      "2\n",
      "5\n",
      "Some generic sound\n",
      "Woof! Woof!\n"
     ]
    }
   ],
   "source": [
    "####     15\n",
    "# Method Overloading:\n",
    "# Method overloading refers to the ability to define multiple methods with the same name in a class, but with different parameter lists. In Python, you can define default parameter values to achieve similar behavior, allowing a method to be called with different numbers of arguments.EXAMPLE :-\n",
    "class Calculator:\n",
    "  def add(self, a, b=0):\n",
    "      return a + b\n",
    "\n",
    "# Creating an object of the Calculator class\n",
    "calc = Calculator()\n",
    "\n",
    "print(calc.add(2))\n",
    "print(calc.add(2, 3))\n",
    "\n",
    "# Method Overriding:\n",
    "# Method overriding, on the other hand, occurs in inheritance when a subclass provides a specific implementation for a method that is already defined in its superclass. The method in the subclass has the same name, parameters, and return type as the method in the superclass, effectively replacing the behavior of the superclass's method.EXAMPLE :-\n",
    "class Animal:\n",
    "  def make_sound(self):\n",
    "      print(\"Some generic sound\")\n",
    "\n",
    "class Dog(Animal):\n",
    "  def make_sound(self):\n",
    "      print(\"Woof! Woof!\")\n",
    "\n",
    "# Creating objects of the classes\n",
    "animal = Animal()\n",
    "dog = Dog()\n",
    "\n",
    "animal.make_sound()\n",
    "dog.make_sound()"
   ]
  },
  {
   "cell_type": "code",
   "execution_count": 32,
   "id": "eec7832b-a48a-44d4-9c1c-eef180d92c2b",
   "metadata": {},
   "outputs": [
    {
     "name": "stdout",
     "output_type": "stream",
     "text": [
      "Name John cena Salary 5000\n",
      "Name Randy Orton Salary 8000 Department Sales\n"
     ]
    }
   ],
   "source": [
    "####     16\n",
    "#  In Python, the __init__() method is a special method, also known as the constructor, that is automatically called when a new object of a class is instantiated. It is used to initialize the object's attributes and perform any setup that is required when an object is created. The __init__() method allows you to ensure that the object is in a valid state after it is created.  When you create a subclass, it may have additional attributes specific to that subclass. The __init__() method in the subclass can call the __init__() method of the parent class using the super() function. This allows the child class to initialize its own attributes while also ensuring that the attributes inherited from the parent class are properly initialized.\n",
    "# FOR EXAMPLE :-\n",
    "class Employee:\n",
    "    def __init__(self, name, salary):\n",
    "        self.name = name\n",
    "        self.salary = salary\n",
    "\n",
    "\n",
    "class Manager(Employee):\n",
    "    def __init__(self, name, salary, department):\n",
    "        super().__init__(name, salary)\n",
    "\n",
    "        self.department = department\n",
    "\n",
    "# Example usage\n",
    "employee = Employee(\"John cena\", 5000)\n",
    "manager = Manager(\"Randy Orton\", 8000, \"Sales\")\n",
    "print(\"Name\", employee.name, \"Salary\", employee.salary)\n",
    "print(\"Name\", manager.name, \"Salary\", manager.salary, \"Department\", manager.department)"
   ]
  },
  {
   "cell_type": "code",
   "execution_count": 33,
   "id": "24382ddf-14ac-418b-94f3-c7cfdb72748e",
   "metadata": {},
   "outputs": [
    {
     "name": "stdout",
     "output_type": "stream",
     "text": [
      "Eagle: Flying Fast! in the sky\n",
      "Sparrow: Sparrow is fluttering around in the garden\n"
     ]
    }
   ],
   "source": [
    "####    17\n",
    "class Bird:\n",
    "  def fly(self):\n",
    "    return (\"Flying!\")\n",
    "\n",
    "class Eagle(Bird):\n",
    "  def fly(self):\n",
    "    return (\"Flying Fast! in the sky\")  \n",
    "\n",
    "class Sparrow(Bird):\n",
    "  def fly(self):\n",
    "    return (\"Sparrow is fluttering around in the garden\")\n",
    "\n",
    "# Creating objects of the classes\n",
    "eagle = Eagle()\n",
    "sparrow = Sparrow()\n",
    "# Calling the overridden fly() method of each class\n",
    "print(\"Eagle:\", eagle.fly())      # Output: Eagle: Eagle is soaring high in the sky\n",
    "print(\"Sparrow:\", sparrow.fly())"
   ]
  },
  {
   "cell_type": "code",
   "execution_count": 34,
   "id": "82bea812-d543-4f0a-8870-269b059bd077",
   "metadata": {},
   "outputs": [
    {
     "name": "stdout",
     "output_type": "stream",
     "text": [
      "Class B\n"
     ]
    }
   ],
   "source": [
    "####   18\n",
    "# The \"diamond problem\" is a common issue in programming languages that support multiple inheritance. It occurs when a class inherits from two or more classes that have a common ancestor. This can lead to ambiguity when calling methods or accessing attributes inherited from the common ancestor, especially if the same method or attribute is defined in multiple parent classes. Python addresses the diamond problem through its method resolution order (MRO) algorithm. Python uses the C3 linearization algorithm (also known as C3 superclass linearization) to determine the order in which classes are searched when looking for a method or attribute. This algorithm ensures a consistent and predictable order, resolving the ambiguity that arises in the diamond problem.\n",
    "# EXAMPLE :-\n",
    "class A:\n",
    "  def speak(self):\n",
    "      print(\"Class A\")\n",
    "\n",
    "class B(A):\n",
    "  def speak(self):\n",
    "      print(\"Class B\")\n",
    "\n",
    "class C(A):\n",
    "  def speak(self):\n",
    "      print(\"Class C\")\n",
    "\n",
    "class D(B, C):\n",
    "  pass\n",
    "\n",
    "# Creating an object of class D\n",
    "obj = D()\n",
    "\n",
    "# Calling the speak() method\n",
    "obj.speak()"
   ]
  },
  {
   "cell_type": "code",
   "execution_count": 35,
   "id": "f66d0ecd-66b7-447e-a9a0-a515ad24ca59",
   "metadata": {},
   "outputs": [
    {
     "name": "stdout",
     "output_type": "stream",
     "text": [
      "Dog barks\n",
      "Cat meows\n",
      "Engine started\n"
     ]
    }
   ],
   "source": [
    "####    19\n",
    "# 1. \"Is-a\" Relationship (Inheritance):\n",
    "# An \"is-a\" relationship represents inheritance, where one class is a specialized version of another class. It implies that an object of the subclass is also an object of the superclass. Subclasses inherit attributes and methods from their superclass and can also have their own unique attributes and methods.\n",
    "# FOR EXAMPLE :-\n",
    "class Animal:\n",
    "  def speak(self):\n",
    "      pass\n",
    "\n",
    "class Dog(Animal):\n",
    "  def speak(self):\n",
    "      print(\"Dog barks\")\n",
    "\n",
    "class Cat(Animal):\n",
    "  def speak(self):\n",
    "      print(\"Cat meows\")\n",
    "\n",
    "# Instances of subclasses\n",
    "dog = Dog()\n",
    "cat = Cat()\n",
    "\n",
    "dog.speak()  # Output: Dog barks\n",
    "cat.speak()  # Output: Cat meows\n",
    "\n",
    "\n",
    "# 2. \"Has-a\" Relationship (Composition):\n",
    "# A \"has-a\" relationship represents composition, where one object has a relationship with another object. It implies that an object has a dependency on another object, and the other object may not exist independently. Composition is often used to model the relationship between a group of objects, such as a group of employees or customers. FOR EXAMPLE :-\n",
    "class Engine:\n",
    "  def start(self):\n",
    "      print(\"Engine started\")\n",
    "\n",
    "class Car:\n",
    "  def __init__(self):\n",
    "      self.engine = Engine()\n",
    "\n",
    "  def start_engine(self):\n",
    "      self.engine.start()\n",
    "\n",
    "# Instance of Car containing an Engine object\n",
    "car = Car()\n",
    "car.start_engine()"
   ]
  },
  {
   "cell_type": "code",
   "execution_count": 36,
   "id": "c4e3a790-1d68-4d65-9bab-a35260d1cce8",
   "metadata": {},
   "outputs": [
    {
     "name": "stdout",
     "output_type": "stream",
     "text": [
      "John Doe is enrolled in Introduction to Programming.\n",
      "Jane Smith is a 35 teaching Machine Learning in a Computer Science department\n"
     ]
    }
   ],
   "source": [
    "####   20\n",
    "class Person:\n",
    "    def __init__(self, name, age):\n",
    "        self.name = name\n",
    "        self.age = age\n",
    "\n",
    "class Student(Person):\n",
    "    def __init__(self, name, age, major):\n",
    "        super().__init__(name, age)\n",
    "        self.major = major\n",
    "\n",
    "    def enroll_course(self, course):\n",
    "       print(f\"{self.name} is enrolled in {course}.\")\n",
    "\n",
    "class Professor(Person):\n",
    "    def __init__(self, name, age, department):\n",
    "        super().__init__(name, age)\n",
    "        self.department = department\n",
    "\n",
    "    def teach_course(self, course):\n",
    "        print (f\"{self.name} is a {self.age} teaching {course} in a {self.department} department\")\n",
    "\n",
    "# Example usage\n",
    "student = Student(\"John Doe\", 20, \"Computer Science\")\n",
    "student.enroll_course(\"Introduction to Programming\")\n",
    "\n",
    "professor = Professor(\"Jane Smith\", 35, \"Computer Science\")\n",
    "professor.teach_course(\"Machine Learning\")"
   ]
  },
  {
   "cell_type": "markdown",
   "id": "e8cbbbd1-f719-487a-8abd-f9372e67d394",
   "metadata": {},
   "source": [
    "##############       ENCAPSULATION       ##############"
   ]
  },
  {
   "cell_type": "markdown",
   "id": "51d79819-eb5f-47df-91b1-e7116f47418b",
   "metadata": {},
   "source": [
    "#####     1\n",
    "# Encapsulation is a technique used to hide the implementation details of an object from the outside world. This is achieved by wrapping the object's data and methods in a wrapper class, which provides public access to the inner data and methods.The role of encapsulation in object oriented programming are as follows :- Data Hiding, Abstraction, Modularity and Security. In Python, encapsulation can be achieved by using private and protected access modifiers for class members (attributes and methods). Here's how they work:-\n",
    "# Private Members Example :-\n",
    "class My_Class:\n",
    "  def __init__(self):\n",
    "      self.__private_attribute = 10  # Private attribute\n",
    "\n",
    "  def __private_method(self):\n",
    "      print(\"This is a private method\")  # Private method\n",
    "\n",
    "# Protected Members Example :-\n",
    "class MyClass:\n",
    "  def __init__(self):\n",
    "      self._protected_attribute = 20  # Protected attribute\n",
    "\n",
    "  def _protected_method(self):\n",
    "      print(\"This is a protected method\")"
   ]
  },
  {
   "cell_type": "markdown",
   "id": "edd2c1ab-be24-4351-83cc-a14f67ae02c4",
   "metadata": {},
   "source": [
    "####    2\n",
    "# The key principles of encapsulation include access control and data hiding:-\n",
    "\n",
    "# Access Control: Private and protected members of a class can be accessed only through the public methods of the class.\n",
    "\n",
    "\n",
    "# Data Hiding: Private members of a class are hidden from the outside world, while protected members are hidden from the outside world and can be accessed only through the public methods of the class.. By encapsulating the data within the class and providing controlled access through public methods, you can prevent unauthorized modification of the object's state. Data hiding helps maintain the integrity and consistency of the object's data.Encapsulation allows you to provide getter and setter methods to access and modify private attributes. Getter methods retrieve the value of a private attribute, while setter methods allow controlled modification of the attribute."
   ]
  },
  {
   "cell_type": "code",
   "execution_count": 39,
   "id": "b14b3aba-0966-492d-a75a-3fa72cd5ea7c",
   "metadata": {},
   "outputs": [
    {
     "name": "stdout",
     "output_type": "stream",
     "text": [
      "Brand (Before): Toyota\n",
      "Brand (After): Honda\n",
      "Model (Before): Corolla\n",
      "Model (After): Civic\n"
     ]
    }
   ],
   "source": [
    "####     3\n",
    "# Encapsulation in Python can be achieved through access control modifiers and naming conventions. Python uses naming conventions to indicate the visibility and access level of class members (attributes and methods).FOR EXAMPLLE :-\n",
    "class Car:\n",
    "  def __init__(self, brand, model):\n",
    "      self._brand = brand           # Protected attribute\n",
    "      self.__model = model          # Private attribute\n",
    "\n",
    "  def get_brand(self):\n",
    "      return self._brand            # Getter for protected attribute\n",
    "\n",
    "  def set_brand(self, new_brand):\n",
    "      self._brand = new_brand        # Setter for protected attribute\n",
    "\n",
    "  def get_model(self):\n",
    "      return self.__model           # Getter for private attribute\n",
    "\n",
    "  def set_model(self, new_model):\n",
    "      self.__model = new_model      # Setter for private attribute\n",
    "\n",
    "# Creating an object of the Car class\n",
    "my_car = Car(brand=\"Toyota\", model=\"Corolla\")\n",
    "\n",
    "# Accessing protected attribute using getter and setter\n",
    "print(\"Brand (Before):\", my_car.get_brand())        # Output: Brand (Before): Toyota\n",
    "my_car.set_brand(\"Honda\")\n",
    "print(\"Brand (After):\", my_car.get_brand())         # Output: Brand (After): Honda\n",
    "\n",
    "# Attempting to access private attribute directly (will raise an error)\n",
    "# print(\"Model:\", my_car.__model)                   # This will raise an error\n",
    "\n",
    "# Accessing private attribute using getter and setter\n",
    "print(\"Model (Before):\", my_car.get_model())\n",
    "my_car.set_model(\"Civic\")\n",
    "print(\"Model (After):\", my_car.get_model())"
   ]
  },
  {
   "cell_type": "markdown",
   "id": "88ac1b7a-2785-4227-83e2-9d62ce3e72ee",
   "metadata": {},
   "source": [
    "####    4\n",
    "# 1. Public Members:-\n",
    "# Syntax: Members without any prefix are considered public. For example, variable_name, method_name().\n",
    "# Access: Public members can be accessed from anywhere, both inside and outside the class.\n",
    "# 2. Private Members:-\n",
    "# Syntax:Members prefixed with double underscores (e.g., __variable_name, __method_name()) are considered private.\n",
    "# Access: Private members can only be accessed from within the class.\n",
    "# 3. Protected Members:-\n",
    "# Syntax:Members prefixed with a single underscore (e.g., _variable_name, _method_name()) are considered protected.\n",
    "# Access: Protected members can only be accessed from within the class and from derived classes."
   ]
  },
  {
   "cell_type": "code",
   "execution_count": 40,
   "id": "dc3f95bf-dbf2-4cbb-b959-dd333dad6794",
   "metadata": {},
   "outputs": [
    {
     "name": "stdout",
     "output_type": "stream",
     "text": [
      "John\n"
     ]
    }
   ],
   "source": [
    "####     5\n",
    "class Person:\n",
    "  def __name(self):\n",
    "    pass\n",
    "\n",
    "  def get__name(self):\n",
    "    return self.__name\n",
    "    \n",
    "  def set__name(self, new_name):\n",
    "    self.__name = new_name\n",
    "    \n",
    "\n",
    "people = Person()\n",
    "people.get__name()\n",
    "people.set__name(\"John\")\n",
    "print(people.get__name())"
   ]
  },
  {
   "cell_type": "code",
   "execution_count": 41,
   "id": "e50609d2-1738-4837-ba88-08a4fb8c6719",
   "metadata": {},
   "outputs": [
    {
     "name": "stdout",
     "output_type": "stream",
     "text": [
      "Alice\n",
      "1000\n",
      "1500\n",
      "1500\n"
     ]
    }
   ],
   "source": [
    "####   6\n",
    "# Getter Methods:\n",
    "# Getter methods, also known as accessor methods, are used to retrieve the values of private attributes of a class. They allow external code to access the values of private variables indirectly, ensuring that the internal representation of the object is not directly exposed. Getter methods are typically public and only provide read access to the private attributes.FOR EXAMPLE :-\n",
    "class Person:\n",
    "  def __init__(self, name):\n",
    "      self.__name = name  # private attribute\n",
    "\n",
    "  def get_name(self):\n",
    "      return self.__name\n",
    "\n",
    "# Usage\n",
    "person = Person(\"Alice\")\n",
    "print(person.get_name())  # Output: Alice\n",
    "\n",
    "# Setter Methods:\n",
    "# Setter methods, also known as mutator methods, are used to modify the values of private attributes of a class. They allow external code to update the values of private variables indirectly, ensuring that the internal representation of the object is protected and controlled. Setter methods are typically public and provide write access to the private attributes, often including validation logic to ensure the new value meets certain criteria.FOR EXAMPLE :-\n",
    "class BankAccount:\n",
    "  def __init__(self, balance):\n",
    "      self.__balance = balance  # private attribute\n",
    "\n",
    "  def set_balance(self, new_balance):\n",
    "      if new_balance >= 0:\n",
    "          self.__balance = new_balance\n",
    "\n",
    "  def get_balance(self):\n",
    "      return self.__balance\n",
    "\n",
    "# Usage\n",
    "account = BankAccount(1000)\n",
    "print(account.get_balance())\n",
    "\n",
    "account.set_balance(1500)\n",
    "print(account.get_balance())\n",
    "account.set_balance(-500)  # The setter method prevents setting negative balance\n",
    "print(account.get_balance())"
   ]
  },
  {
   "cell_type": "markdown",
   "id": "9b90142e-5286-4ee9-85db-52964d47e5c6",
   "metadata": {},
   "source": [
    "####   7\n",
    "# The name mangling process helps to access the class variables from outside the class. The class variables can be accessed by adding _classname to it. The name mangling is closest to private not exactly private. The above class variable is accessed by adding the _classname to it. For example, if the class name is Person, the variable name is _Person__name. To access the variable name, we can use the getter method get_name().It effect encapsulation by providing access to the private variables from outside the class.It didn't keep the private variables private."
   ]
  },
  {
   "cell_type": "code",
   "execution_count": 42,
   "id": "0f3d3e3e-16a8-4893-a119-a0661b97528f",
   "metadata": {},
   "outputs": [
    {
     "name": "stdout",
     "output_type": "stream",
     "text": [
      "Deposite Successfull\n",
      "Deposite amount 500 and Total balance is 10500 \n",
      "Withdraw Successfull and remaining balance  is  9000\n",
      "Account Balance  9000\n",
      "Account number  1234667899\n"
     ]
    }
   ],
   "source": [
    "####    8\n",
    "class BankAccount:\n",
    "  def __init__(self,account_number,initial_balance=0):\n",
    "    self.__acc_number = account_number\n",
    "    self.__balance = initial_balance\n",
    "\n",
    "  def deposite(self,amount):\n",
    "    self.__balance += amount\n",
    "    print(\"Deposite Successfull\")\n",
    "    if amount > 0:\n",
    "      print(f\"Deposite amount {amount} and Total balance is {self.__balance} \")\n",
    "\n",
    "  def withdraw(self,amount):\n",
    "    if 0<amount < self.__balance:\n",
    "      self.__balance -= amount\n",
    "      print(\"Withdraw Successfull and remaining balance  is \",self.__balance)\n",
    "    elif amount >self.__balance:\n",
    "      print(\"Insufficient balance\")\n",
    "    else:\n",
    "      print(\"Invalid Amount and enter valid amount\")\n",
    "\n",
    "  def get_balance(self):\n",
    "    return self.__balance\n",
    "\n",
    "  def set_balance(self,new_balance):\n",
    "    self.__balance = new_balance\n",
    "\n",
    "  def get_acc_number(self):\n",
    "    return self.__acc_number\n",
    "\n",
    "if __name__ == \"__main__\":\n",
    "  account_number = 1234667899\n",
    "  initial_balance = 10000\n",
    "  account = BankAccount(account_number,initial_balance)\n",
    "  account.deposite(500)\n",
    "  account.withdraw(1500)\n",
    "  print(\"Account Balance \",account.get_balance())\n",
    "  print(\"Account number \",account.get_acc_number())"
   ]
  },
  {
   "cell_type": "markdown",
   "id": "d8de2b3d-379e-4886-8b42-f1a4a891402a",
   "metadata": {},
   "source": [
    "####    9\n",
    "# Advantages of Encapsulation in Terms of Code Maintainability:\n",
    "# 1. Modularity and Abstraction:\n",
    "# Encapsulation allows you to group related data and behavior into a single unit (a class). This modularity promotes code organization and makes it easier to understand and maintain the codebase.\n",
    "# 2. Code Reusability:\n",
    "# Once a class is properly encapsulated, it can be reused in different parts of the program or in other projects without modification.\n",
    "\n",
    "# 3. Encapsulation of Complex Logic:\n",
    "# Encapsulation allows you to hide the complex implementation details within a class. \n",
    "\n",
    "# 4. Flexibility and Evolution:\n",
    "# Encapsulation provides flexibility when modifying the internal implementation of a class. You can change the implementation without affecting the code that uses the class's public interface.\n",
    "\n",
    "# Advantages of Encapsulation in Terms of Security:\n",
    "# 1. Access Control:\n",
    "# Encapsulation allows you to control the access level to the class members (attributes and methods). By making certain data private, you can prevent direct external access and modification.\n",
    "\n",
    "# 2. Data Integrity:\n",
    "# Preventing direct access to data and enforcing validation logic helps maintain data integrity and security.\n",
    "\n",
    "# 3. Encapsulation of Sensitive Information:\n",
    "# In applications dealing with sensitive information (such as passwords, encryption keys, etc.), encapsulation is crucial. By encapsulating sensitive data within a class and providing limited and controlled access, you reduce the risk of unauthorized access and manipulation.\n",
    "\n",
    "# 4. Encapsulation of Security Policies:\n",
    "# Security policies and checks can be encapsulated within classes. For example, access control logic and authentication mechanisms can be encapsulated, ensuring that these policies are consistently applied across the application. This centralization of security logic enhances maintainability and reduces the risk of security vulnerabilities due to inconsistent implementation."
   ]
  },
  {
   "cell_type": "code",
   "execution_count": 43,
   "id": "8aea769d-8c3a-48aa-bba3-bb11d020c614",
   "metadata": {},
   "outputs": [
    {
     "name": "stdout",
     "output_type": "stream",
     "text": [
      "42\n",
      "99\n"
     ]
    }
   ],
   "source": [
    "# In Python, attributes and methods can be marked as \"private\" by prefixing their names with a double underscore (__). This is a form of name mangling, which means that the names get altered to make them less accessible from outside the class. While Python does not enforce strict access control, it uses name mangling to make it more difficult to access private attributes unintentionally.\n",
    "class MyClass:\n",
    "    def __init__(self):\n",
    "        self.__private_attribute = 42\n",
    "\n",
    "    def get_private_attribute(self):\n",
    "        return self.__private_attribute\n",
    "\n",
    "    def set_private_attribute(self, value):\n",
    "        self.__private_attribute = value\n",
    "\n",
    "# Creating an instance of the class\n",
    "obj = MyClass()\n",
    "\n",
    "# Accessing the private attribute using public methods\n",
    "print(obj.get_private_attribute())  # Output: 42\n",
    "\n",
    "# Modifying the private attribute using a public method\n",
    "obj.set_private_attribute(99)\n",
    "\n",
    "# Accessing the modified private attribute\n",
    "print(obj.get_private_attribute())  # Output: 99\n",
    "\n",
    "# Attempting to access the private attribute directly (will raise an AttributeError)\n",
    "# Uncommenting the line below will result in an AttributeError.\n",
    "# print(obj.__private_attribute)"
   ]
  },
  {
   "cell_type": "code",
   "execution_count": 44,
   "id": "c8a08594-4ce7-4dbf-977c-bb03cabea03c",
   "metadata": {},
   "outputs": [
    {
     "name": "stdout",
     "output_type": "stream",
     "text": [
      "Course name: Math\n",
      "Teacher name: Mr. Smith\n",
      "Students:\n",
      "- John\n",
      "- Jane\n",
      "- Bob\n"
     ]
    }
   ],
   "source": [
    "####    11\n",
    "class Person:\n",
    "    def __init__(self, name, age):\n",
    "        self._name = name\n",
    "        self._age = age\n",
    "\n",
    "    def get_name(self):\n",
    "        return self._name\n",
    "\n",
    "    def get_age(self):\n",
    "        return self._age\n",
    "\n",
    "\n",
    "class Student(Person):\n",
    "    def __init__(self, name, age, student_id):\n",
    "        super().__init__(name, age)\n",
    "        self._student_id = student_id\n",
    "\n",
    "    def get_student_id(self):\n",
    "        return self._student_id\n",
    "\n",
    "\n",
    "class Teacher(Person):\n",
    "    def __init__(self, name, age, teacher_id):\n",
    "        super().__init__(name, age)\n",
    "        self._teacher_id = teacher_id\n",
    "\n",
    "    def get_teacher_id(self):\n",
    "        return self._teacher_id\n",
    "\n",
    "\n",
    "class Course:\n",
    "    def __init__(self, course_name, teacher, students):\n",
    "        self._course_name = course_name\n",
    "        self._teacher = teacher\n",
    "        self._students = students\n",
    "\n",
    "    def add_student(self, student):\n",
    "        self._students.append(student)\n",
    "\n",
    "    def get_course_name(self):\n",
    "        return self._course_name\n",
    "\n",
    "\n",
    "# Example usage\n",
    "student1 = Student(\"John\", 20, 12345)\n",
    "student2 = Student(\"Jane\", 21, 67890)\n",
    "teacher = Teacher(\"Mr. Smith\", 35, 24680)\n",
    "course = Course(\"Math\", teacher, [student1, student2])\n",
    "course.add_student(Student(\"Bob\", 22, 54321))\n",
    "print(\"Course name:\", course.get_course_name())\n",
    "print(\"Teacher name:\", course._teacher.get_name())\n",
    "print(\"Students:\")\n",
    "for student in course._students:\n",
    "    print(\"-\", student.get_name())"
   ]
  },
  {
   "cell_type": "markdown",
   "id": "6ef55d84-5c8a-459b-8428-c8ae234f43db",
   "metadata": {},
   "source": [
    "####    12\n",
    "# In Python, property decorators are a way to implement getter, setter, and deleter methods for class attributes. They provide a convenient way to encapsulate the access to the attributes of an object, allowing you to control how these attributes are accessed, modified, or deleted.The @property decorator is used to define a getter method for an attribute. When this decorator is applied to a method, it allows you to access the method like an attribute, without using parentheses. This way, you can control the logic executed when the attribute is accessed."
   ]
  },
  {
   "cell_type": "code",
   "execution_count": 45,
   "id": "dcc19b9f-ed01-47b2-a6a1-63df98fbf505",
   "metadata": {},
   "outputs": [
    {
     "name": "stdout",
     "output_type": "stream",
     "text": [
      "12345\n",
      "1000\n",
      "500\n"
     ]
    }
   ],
   "source": [
    "####  13\n",
    "# Data hiding allows an object to hide its data from external code and provides controlled access to that data through public methods or interfaces.It is important in encapsulation By hiding the internal state of objects, sensitive information is protected from unauthorized access or modification. Data hiding allows the programmer to focus on the essential aspects of an object and ignore the irrelevant details.Encapsulation with data hiding allows the internal representation of an object to be changed without affecting the code that uses the object. Encapsulation promotes modularity by encapsulating related data and behavior into a single unit (class).FOR EXAMPLE :-\n",
    "class BankAccount:\n",
    "  def __init__(self, account_number, balance):\n",
    "      self.__account_number = account_number  # Data hiding using double underscores\n",
    "      self.__balance = balance\n",
    "\n",
    "  def get_account_number(self):\n",
    "      return self.__account_number\n",
    "\n",
    "  def get_balance(self):\n",
    "      return self.__balance\n",
    "\n",
    "  def deposit(self, amount):\n",
    "      self.__balance += amount\n",
    "\n",
    "  def withdraw(self, amount):\n",
    "      if amount <= self.__balance:\n",
    "          self.__balance -= amount\n",
    "      else:\n",
    "          print(\"Insufficient funds!\")\n",
    "\n",
    "# Usage\n",
    "account = BankAccount(\"12345\", 1000)\n",
    "print(account.get_account_number())\n",
    "print(account.get_balance())\n",
    "account.withdraw(500)\n",
    "print(account.get_balance())"
   ]
  },
  {
   "cell_type": "code",
   "execution_count": 46,
   "id": "c78a1ef4-ad9c-44fa-b377-81ba58f42d7a",
   "metadata": {},
   "outputs": [
    {
     "name": "stdout",
     "output_type": "stream",
     "text": [
      "50000\n",
      "E12345\n",
      "60000\n",
      "9000.0\n"
     ]
    }
   ],
   "source": [
    "####     14\n",
    "class Employee:\n",
    "  def __init__(self,salary,employeeId):\n",
    "    self.__salary = salary\n",
    "    self.__employeeId = employeeId\n",
    "\n",
    "  def get_employee_id(self):\n",
    "    return self.__employeeId\n",
    "\n",
    "  def get_salary(self):\n",
    "    return self.__salary\n",
    "\n",
    "  def set_salary(self,salary):\n",
    "    self.__salary = salary\n",
    "\n",
    "  def calculate_yearly_bonus(self, bonus_percentage):\n",
    "    bonus_amount = (bonus_percentage / 100) * self.__salary\n",
    "    return bonus_amount\n",
    "\n",
    "# Usage\n",
    "employee = Employee(\"E12345\", 50000)  # Creating an object\n",
    "print(employee.get_employee_id())\n",
    "print(employee.get_salary())\n",
    "employee.set_salary(60000)\n",
    "print(employee.get_salary())\n",
    "print(employee.calculate_yearly_bonus(15))"
   ]
  },
  {
   "cell_type": "markdown",
   "id": "a79a9492-a242-44db-aa3c-b670de6c977c",
   "metadata": {},
   "source": [
    "####    15\n",
    "# 1. Accessors (Getter Methods):\n",
    "# Accessors are methods used to retrieve the values of private attributes from an object. They provide read-only access to the attributes, allowing external code to obtain the values without directly accessing the private variables. Accessors are essential for encapsulation because they allow controlled access to the internal state of an object. While,\n",
    "# 2. Mutators (Setter Methods):\n",
    "# Mutators are methods used to modify the values of private attributes within an object. They provide write-only access to the attributes, allowing external code to update the values in a controlled manner. Mutators are crucial for encapsulation because they enable data validation, error checking, and controlled modification of object state."
   ]
  },
  {
   "cell_type": "markdown",
   "id": "07eda56c-fbb3-4e1e-9297-97b831fe16c0",
   "metadata": {},
   "source": [
    "####    16\n",
    "# The potential drawbacks  or disadvantages of using encapsulation in python are:-\n",
    "# 1. Increased Complexity\n",
    "# 2. Overhead in Performance \n",
    "# 3. Reduced Visibility\n",
    "# 4. Tighter Coupling\n",
    "# 5. Difficulty in Testing\n",
    "# 6. Limited Flexibility\n",
    "# 7. Potential for Overuse"
   ]
  },
  {
   "cell_type": "code",
   "execution_count": 47,
   "id": "3a4c8ba8-18e8-4eda-a35e-c7b71104ff6f",
   "metadata": {},
   "outputs": [
    {
     "name": "stdout",
     "output_type": "stream",
     "text": [
      "Title: The Great Gatsby\n",
      "Author: F. Scott Fitzgerald\n",
      "Availability: Available\n",
      "\n",
      "Title: To Kill a Mockingbird\n",
      "Author: Harper Lee\n",
      "Availability: Available\n",
      "\n",
      "Title: To Kill a Mockingbird\n",
      "Author: Harper Lee\n",
      "Availability: Available\n",
      "\n"
     ]
    }
   ],
   "source": [
    "####    17\n",
    "class Book:\n",
    "    def __init__(self, title, author, is_available):\n",
    "        self.title = title\n",
    "        self.author = author\n",
    "        self.is_available = is_available\n",
    "\n",
    "class Library:\n",
    "    def __init__(self):\n",
    "        self.books = []\n",
    "\n",
    "    def add_book(self, book):\n",
    "        self.books.append(book)\n",
    "\n",
    "    def remove_book(self, book):\n",
    "        self.books.remove(book)\n",
    "\n",
    "    def search_book(self, title):\n",
    "        for book in self.books:\n",
    "            if book.title == title:\n",
    "                return book\n",
    "\n",
    "    def display_books(self):\n",
    "        for book in self.books:\n",
    "            print(f\"Title: {book.title}\")\n",
    "            print(f\"Author: {book.author}\")\n",
    "            print(f\"Availability: {'Available' if book.is_available else 'Not Available'}\")\n",
    "            print()\n",
    "\n",
    "# Usage\n",
    "library = Library()\n",
    "book1 = Book(\"The Great Gatsby\", \"F. Scott Fitzgerald\", True)\n",
    "book2 = Book(\"To Kill a Mockingbird\", \"Harper Lee\", True)\n",
    "library.add_book(book1)\n",
    "library.add_book(book2)\n",
    "library.display_books()\n",
    "library.remove_book(book1)\n",
    "library.display_books()"
   ]
  },
  {
   "cell_type": "markdown",
   "id": "7f00221d-0b2d-4420-942e-01a0294faf42",
   "metadata": {},
   "source": [
    "####     18\n",
    "# Encapsulation enhances code reusability and modularity in Python programs by hiding internal implementation details within classes. By making attributes private and exposing them through controlled public methods, encapsulation provides a stable interface for external code. This separation allows for easy modification of internal implementations without affecting external code, promoting modularity. Encapsulated classes can be independently developed, tested, and maintained, leading to modular code structures. Additionally, encapsulation ensures information hiding, enhancing security and data integrity. Reusing encapsulated classes simplifies development, as developers can leverage existing components with well-defined interfaces in new contexts, saving time and effort."
   ]
  },
  {
   "cell_type": "markdown",
   "id": "6f54aeaa-55b2-42e1-9d7e-4fa67c98281e",
   "metadata": {},
   "source": [
    "####    19\n",
    "# Information hiding refers to the practice of hiding the internal details and complexities of a module, class, or object from the external world while exposing a well-defined and controlled interface.\n",
    "# Information hiding is essential in software development because it enhances security by protecting sensitive data and implementation details. It promotes abstraction, allowing developers to focus on essential features and simplifying complexity. Information hiding supports modularity, enabling changes within modules without impacting the entire system, enhancing flexibility for software evolution. It also facilitates collaborative development by reducing dependencies and simplifies code maintenance, making debugging and extending the software more manageable. Overall, information hiding ensures a clear separation of concerns, enhancing the reliability and maintainability of software applications."
   ]
  },
  {
   "cell_type": "code",
   "execution_count": 48,
   "id": "db4fe818-7f4d-4673-aa45-584b8ca3816a",
   "metadata": {},
   "outputs": [
    {
     "name": "stdout",
     "output_type": "stream",
     "text": [
      "Customer Name: Harry\n",
      "Customer Address: 1234 Gandhi nagar\n",
      "Customer Contact: 12347890\n",
      "Updated Customer Name: Jane Smith\n",
      "Updated Customer Address: 456 Elm St, Townsville\n",
      "Updated Customer Contact: 555-5678\n"
     ]
    }
   ],
   "source": [
    "####     20\n",
    "class Customer:\n",
    "  def __init__(self, name, address, contact_information):\n",
    "      self.__name = name\n",
    "      self.__address = address\n",
    "      self.__contact_information = contact_information\n",
    "\n",
    "  def get_name(self):\n",
    "    return self.__name\n",
    "    \n",
    "  def get_address(self):\n",
    "    return self.__address\n",
    "\n",
    "  def get_contact(self):\n",
    "    return self.__contact_information\n",
    "\n",
    "  def set_name(self,name):\n",
    "   self.__name = name\n",
    "\n",
    "  def set_address(self,address):\n",
    "    self.__address = address\n",
    "    \n",
    "  def set_contact(self,contact_information):\n",
    "    self.__contact_information = contact_information\n",
    "\n",
    "customer = Customer(\"Harry\",\"1234 Gandhi nagar\",12347890)\n",
    "\n",
    "print(\"Customer Name:\", customer.get_name())  \n",
    "print(\"Customer Address:\", customer.get_address()) \n",
    "print(\"Customer Contact:\", customer.get_contact()) \n",
    "# Updating customer details using mutator methods\n",
    "customer.set_name(\"Jane Smith\")\n",
    "customer.set_address(\"456 Elm St, Townsville\")\n",
    "customer.set_contact(\"555-5678\")\n",
    "\n",
    "print(\"Updated Customer Name:\", customer.get_name()) \n",
    "print(\"Updated Customer Address:\", customer.get_address())\n",
    "print(\"Updated Customer Contact:\", customer.get_contact())"
   ]
  },
  {
   "cell_type": "markdown",
   "id": "c7a8d2e6-e49d-49c4-8358-e403643caed7",
   "metadata": {},
   "source": [
    "#############     POLYMORPHISM     ######### "
   ]
  },
  {
   "cell_type": "markdown",
   "id": "6e1c3e09-7b39-4cd0-911c-678eecdfab54",
   "metadata": {},
   "source": [
    "####    1\n",
    "# Polymorphism is a concept in object-oriented programming that refers to the ability of an object to take on multiple forms. Polymorphism is achieved through the use of method overloading and dynamic binding. Method overloading is the process of changing the behavior of a method based on the number of arguments passed to the method. Dynamic binding is the process of selecting the correct implementation of a method based on the type of the object that is calling. Polymorphism in Python is a concept related to object-oriented programming (OOP) that allows objects of different types to be treated as objects of a common type. It enables a single interface to represent different underlying data types, allowing for flexibility and extensibility in code."
   ]
  },
  {
   "cell_type": "markdown",
   "id": "d9965eb6-6c10-4ada-af26-39d1db25f14f",
   "metadata": {},
   "source": [
    "#####     2\n",
    "# Compile-time Polymorphism (Static Binding):-\n",
    "# Also known as method overloading. Involves defining multiple methods in the same class with the same name but different parameters. The appropriate method is selected at compile time based on the number and types of arguments.\n",
    "# FOR EXAMPLE :-\n",
    "class MyClass:\n",
    "  def addition(self, a, b):\n",
    "      return a + b\n",
    "\n",
    "  def addition(self, a, b, c):\n",
    "      return a + b + c\n",
    "# Run-time Polymorphism (Dynamic Binding):-\n",
    "# Also known as method overriding. Involves creating a method in the subclass that is already present in the parent class. The method in the subclass provides a specific implementation for the method in the parent class. Example:-\n",
    "class Animal:\n",
    "  def make_sound(self):\n",
    "      pass\n",
    "\n",
    "class Dog(Animal):\n",
    "  def make_sound(self):\n",
    "      return \"Bark\"\n",
    "\n",
    "class Cat(Animal):\n",
    "  def make_sound(self):\n",
    "      return \"Meow\""
   ]
  },
  {
   "cell_type": "code",
   "execution_count": 50,
   "id": "ad5c9bd5-601e-4a1a-94cd-8d66907fa180",
   "metadata": {},
   "outputs": [
    {
     "name": "stdout",
     "output_type": "stream",
     "text": [
      "Area of  Circle  is  78.5\n",
      "Area of  Square  is  25\n",
      "Area of  Triangle  is  25.0\n"
     ]
    }
   ],
   "source": [
    "#####    3\n",
    "class Shape:\n",
    "    def calculate_area(self):\n",
    "        pass\n",
    "\n",
    "class Circle(Shape):\n",
    "    def __init__(self, radius):\n",
    "        self.radius = radius\n",
    "\n",
    "    def calculate_area(self):\n",
    "        return 3.14 * self.radius * self.radius\n",
    "\n",
    "class Square(Shape):\n",
    "    def __init__(self, side):\n",
    "        self.side = side\n",
    "\n",
    "    def calculate_area(self):\n",
    "        return self.side * self.side\n",
    "\n",
    "class Triangle(Shape):\n",
    "    def __init__(self, base, height):\n",
    "        self.base = base\n",
    "        self.height = height\n",
    "\n",
    "    def calculate_area(self):\n",
    "        return 0.5 * self.base * self.height\n",
    "\n",
    "circle = Circle(5)\n",
    "square = Square(5)\n",
    "triangle = Triangle(5, 10)\n",
    "shapes = [circle, square, triangle]\n",
    "for shape in shapes:\n",
    "    print(\"Area of \", shape.__class__.__name__, \" is \", shape.calculate_area())"
   ]
  },
  {
   "cell_type": "code",
   "execution_count": 51,
   "id": "e11dab13-42b0-47ed-a95e-37cde443ab34",
   "metadata": {},
   "outputs": [
    {
     "name": "stdout",
     "output_type": "stream",
     "text": [
      "Bark\n",
      "Meow\n"
     ]
    }
   ],
   "source": [
    "####    4\n",
    "# Method overriding is a concept in object-oriented programming (OOP) that occurs when a subclass provides a specific implementation for a method that is already defined in its superclass. This allows the subclass to provide its own behavior for the method while maintaining the same method signature as the superclass. Method overriding is a key feature of polymorphism, particularly runtime polymorphism. FOR EXAMPLE :-\n",
    "class Animal:\n",
    "  def make_sound(self):\n",
    "      return \"Generic animal sound\"\n",
    "\n",
    "class Dog(Animal):\n",
    "  def make_sound(self):\n",
    "      return \"Bark\"\n",
    "\n",
    "class Cat(Animal):\n",
    "  def make_sound(self):\n",
    "      return \"Meow\"\n",
    "\n",
    "# Example usage\n",
    "dog = Dog()\n",
    "cat = Cat()\n",
    "\n",
    "print(dog.make_sound())\n",
    "print(cat.make_sound())"
   ]
  },
  {
   "cell_type": "code",
   "execution_count": 52,
   "id": "a6209e11-04d2-4e74-8c01-569c5bde5ccf",
   "metadata": {},
   "outputs": [
    {
     "name": "stdout",
     "output_type": "stream",
     "text": [
      "Bark\n",
      "Meow\n",
      "2\n",
      "5\n",
      "9\n"
     ]
    }
   ],
   "source": [
    "####    5\n",
    "# Polymorphism:-\n",
    "# Polymorphism allows objects of different types to be treated as objects of a common type. It enables a single interface to represent different underlying data types, providing a way to achieve code flexibility and extensibility. Example of Polymorphism:-\n",
    "\n",
    "class Animal:\n",
    "    def make_sound(self):\n",
    "        pass  # Placeholder method\n",
    "\n",
    "class Dog(Animal):\n",
    "    def make_sound(self):\n",
    "        return \"Bark\"\n",
    "\n",
    "class Cat(Animal):\n",
    "    def make_sound(self):\n",
    "        return \"Meow\"\n",
    "\n",
    "# Polymorphic function\n",
    "def animal_sound(animal):\n",
    "    return animal.make_sound()\n",
    "\n",
    "# Example usage\n",
    "dog = Dog()\n",
    "cat = Cat()\n",
    "\n",
    "print(animal_sound(dog)) \n",
    "print(animal_sound(cat))\n",
    "\n",
    "# Method Overloading:-\n",
    "# Method overloading involves defining multiple methods in the same class with the same name but different parameters. Python does not support traditional method overloading (as in some other languages like Java), where multiple methods with the same name are allowed with different parameter types or numbers. However, a form of method overloading can be achieved using default parameter values and variable-length argument lists. Example of Method Overloading (Python style):\n",
    "\n",
    "class Calculator:\n",
    "    def add(self, a, b=0, c=0):\n",
    "        return a + b + c\n",
    "\n",
    "# Example usage\n",
    "calc = Calculator()\n",
    "\n",
    "print(calc.add(2))\n",
    "print(calc.add(2, 3))\n",
    "print(calc.add(2, 3, 4))"
   ]
  },
  {
   "cell_type": "code",
   "execution_count": 53,
   "id": "1843b37f-5ece-498a-910a-1dd953831fda",
   "metadata": {},
   "outputs": [
    {
     "name": "stdout",
     "output_type": "stream",
     "text": [
      "Dog is  Woof!\n",
      "Cat is  Meow!\n",
      "Bird is  Tweet!\n"
     ]
    }
   ],
   "source": [
    "####     6\n",
    "class Animal:\n",
    "  def speak(self):\n",
    "    pass\n",
    "\n",
    "class Dog(Animal):\n",
    "  def speak(self):\n",
    "    return \"Woof!\"\n",
    "\n",
    "class Cat(Animal):\n",
    "  def speak(self):\n",
    "    return \"Meow!\"\n",
    "\n",
    "class Bird(Animal):\n",
    "  def speak(self):\n",
    "    return \"Tweet!\"\n",
    "\n",
    "# Demonstrate polymorphism\n",
    "def animal_speak(animal):\n",
    "    return animal.speak()\n",
    "\n",
    "# Example usage\n",
    "dog = Dog()\n",
    "cat = Cat()\n",
    "bird = Bird()\n",
    "\n",
    "print(\"Dog is \",animal_speak(dog)) \n",
    "print(\"Cat is \",animal_speak(cat))\n",
    "print(\"Bird is \",animal_speak(bird))"
   ]
  },
  {
   "cell_type": "code",
   "execution_count": 54,
   "id": "6af243e3-4eae-49af-8218-af65efd4c190",
   "metadata": {},
   "outputs": [
    {
     "name": "stdout",
     "output_type": "stream",
     "text": [
      "The area is: 78.5\n",
      "The area is: 16\n",
      "The area is: 9.0\n"
     ]
    }
   ],
   "source": [
    "####    7\n",
    "# Abstract methods and classes are a way to achieve polymorphism in Python by defining a common interface without providing an implementation. Abstract classes cannot be instantiated, and their subclasses must provide concrete implementations for the abstract methods. This ensures that objects of different types can be treated uniformly, promoting a consistent interface while allowing for diverse implementations. Example of Abstract Method:-\n",
    "from abc import ABC, abstractmethod\n",
    "\n",
    "\n",
    "# Define an abstract class 'Shape' with an abstract method 'calculate_area'\n",
    "class Shape(ABC):\n",
    "    @abstractmethod\n",
    "    def calculate_area(self):\n",
    "        pass\n",
    "\n",
    "# Concrete subclasses providing specific implementations\n",
    "class Circle(Shape):\n",
    "    def __init__(self, radius):\n",
    "        self.radius = radius\n",
    "\n",
    "    def calculate_area(self):\n",
    "        return 3.14 * self.radius**2\n",
    "\n",
    "class Square(Shape):\n",
    "    def __init__(self, side_length):\n",
    "        self.side_length = side_length\n",
    "\n",
    "    def calculate_area(self):\n",
    "        return self.side_length**2\n",
    "\n",
    "class Triangle(Shape):\n",
    "    def __init__(self, base, height):\n",
    "        self.base = base\n",
    "        self.height = height\n",
    "\n",
    "    def calculate_area(self):\n",
    "        return 0.5 * self.base * self.height\n",
    "\n",
    "# Polymorphic function using the common interface\n",
    "def print_area(shape):\n",
    "    print(f\"The area is: {shape.calculate_area()}\")\n",
    "\n",
    "# Example usage\n",
    "circle = Circle(5)\n",
    "square = Square(4)\n",
    "triangle = Triangle(3, 6)\n",
    "\n",
    "print_area(circle)\n",
    "print_area(square)\n",
    "print_area(triangle)"
   ]
  },
  {
   "cell_type": "code",
   "execution_count": 55,
   "id": "7ff1997b-f40f-41ec-97bb-ac064174b21b",
   "metadata": {},
   "outputs": [
    {
     "name": "stdout",
     "output_type": "stream",
     "text": [
      "Toyota Corolla is starting with Petrol fuel\n",
      "Yamaha BMX is starting with paddling\n",
      "Sailing Yacht is starting with Jet engine\n"
     ]
    }
   ],
   "source": [
    "####   8\n",
    "class Vehicle:\n",
    "  def __init__(self,brand,model):\n",
    "    self.brand = brand\n",
    "    self.model = model\n",
    "    return f\"{self.brand} {self.model} is starting\"\n",
    "    \n",
    "  def start(self):\n",
    "    pass\n",
    "\n",
    "class Car(Vehicle):\n",
    "  def __init__(self,brand,model,fuel_type):\n",
    "    super().__init__(brand,model)\n",
    "    self.fuel_type = fuel_type\n",
    "\n",
    "  def start(self):\n",
    "    return f\"{self.brand} {self.model} is starting with {self.fuel_type} fuel\"\n",
    "\n",
    "class Bicycle(Vehicle):\n",
    "  def __init__(self,brand,model):\n",
    "    super().__init__(brand,model)\n",
    "\n",
    "  def start(self):\n",
    "    return f\"{self.brand} {self.model} is starting with paddling\"\n",
    "\n",
    "class Boat(Vehicle):\n",
    "  def __init__(self,brand,model,engine_type):\n",
    "    super().__init__(brand,model)\n",
    "    self.engine_type = engine_type\n",
    "\n",
    "  def start(self):\n",
    "    return f\"{self.brand} {self.model} is starting with {self.engine_type} engine\"\n",
    "\n",
    "# Demonstrate polymorphism\n",
    "def vehicle_start(vehicle):\n",
    "    return vehicle.start()\n",
    "\n",
    "# Example usage\n",
    "car = Car(\"Toyota\",\"Corolla\",\"Petrol\")\n",
    "bicycle = Bicycle(\"Yamaha\",\"BMX\")\n",
    "boat = Boat(\"Sailing\",\"Yacht\",\"Jet\")\n",
    "print(vehicle_start(car))\n",
    "print(vehicle_start(bicycle))\n",
    "print(vehicle_start(boat))"
   ]
  },
  {
   "cell_type": "markdown",
   "id": "5cb06c6f-0ba1-4bbc-b04d-576afd8aff6c",
   "metadata": {},
   "source": [
    "####   9\n",
    "# isinstance() is used to check whether an object is an instance of a particular class or a tuple of classes. It helps in ensuring that an object conforms to a certain type before performing operations on it. Supports polymorphic behavior by allowing code to adapt to different types dynamically.while issubclass() is checks if a class is a subclass of another class. Useful for verifying class hierarchies and ensuring that a class adheres to a certain inheritance structure."
   ]
  },
  {
   "cell_type": "code",
   "execution_count": 56,
   "id": "c0e75c4e-efec-4512-b10d-9d46c7bcf85b",
   "metadata": {},
   "outputs": [
    {
     "name": "stdout",
     "output_type": "stream",
     "text": [
      "Woof!\n",
      "Meow!\n",
      "Tweet!\n"
     ]
    }
   ],
   "source": [
    "####    10\n",
    "# The @abstractmethod decorator is part of the abc (Abstract Base Classes) module in Python. It is used to declare abstract methods in abstract classes, enforcing that concrete subclasses must provide an implementation for these methods. Abstract methods play a crucial role in achieving polymorphism by defining a common interface that multiple classes can adhere to while allowing each class to provide its own specific implementation. FOR EXAMPLE :-\n",
    "from abc import ABC, abstractmethod\n",
    "\n",
    "class Animal(ABC):\n",
    "    @abstractmethod\n",
    "    def make_sound(self):\n",
    "        pass\n",
    "\n",
    "class Dog(Animal):\n",
    "    def make_sound(self):\n",
    "        return \"Woof!\"\n",
    "\n",
    "class Cat(Animal):\n",
    "    def make_sound(self):\n",
    "        return \"Meow!\"\n",
    "\n",
    "class Bird(Animal):\n",
    "    def make_sound(self):\n",
    "        return \"Tweet!\"\n",
    "\n",
    "# Polymorphic function using the common interface\n",
    "def animal_sound(animal):\n",
    "    return animal.make_sound()\n",
    "\n",
    "# Example usage\n",
    "dog = Dog()\n",
    "cat = Cat()\n",
    "bird = Bird()\n",
    "\n",
    "print(animal_sound(dog))\n",
    "print(animal_sound(cat))\n",
    "print(animal_sound(bird))"
   ]
  },
  {
   "cell_type": "code",
   "execution_count": 57,
   "id": "9665ea28-8939-4054-a9ee-964ccc52b4db",
   "metadata": {},
   "outputs": [
    {
     "name": "stdout",
     "output_type": "stream",
     "text": [
      "Circle area 78.5\n",
      "Rectangle area 50\n",
      "Traingle area 25.0\n"
     ]
    }
   ],
   "source": [
    "####   11\n",
    "class Shape:\n",
    "  def area(self):\n",
    "    pass\n",
    "\n",
    "class Circle(Shape):\n",
    "  def __init__(self,radius):\n",
    "    self.radius = radius\n",
    "\n",
    "  def area(self):\n",
    "    return f\"Circle area {3.14*self.radius*self.radius}\"\n",
    "\n",
    "class Rectangle(Shape):\n",
    "  def __init__(self,width,height):\n",
    "    self.width = width\n",
    "    self.height = height\n",
    "\n",
    "  def area(self):\n",
    "    return f\"Rectangle area {self.width*self.height}\"\n",
    "\n",
    "class Traingle(Vehicle):\n",
    "  def __init__(self, length, breadth):\n",
    "    self.length = length \n",
    "    self.breadth = breadth\n",
    "\n",
    "  def area(self):\n",
    "    return f\"Traingle area {0.5*self.length*self.breadth}\"\n",
    "\n",
    "# Demonstrate polymorphism\n",
    "def shape_area(shape):\n",
    "    return shape.area()\n",
    "\n",
    "# Example usage\n",
    "circle = Circle(5)\n",
    "rectangle = Rectangle(5, 10)\n",
    "traingle = Traingle(5, 10)\n",
    "print(shape_area(circle))\n",
    "print(shape_area(rectangle))\n",
    "print(shape_area(traingle))"
   ]
  },
  {
   "cell_type": "markdown",
   "id": "926370c7-8122-46ae-a1e6-851bef5ff9c4",
   "metadata": {},
   "source": [
    "####   12\n",
    "# Polymorphism in Python offers crucial advantages in terms of code reusability and flexibility. By allowing objects of different types to be treated uniformly through a common interface, polymorphism promotes code reuse and modularity. The dynamic binding characteristic facilitates adaptability at runtime, enabling the code to work seamlessly with various object types without explicit type declarations. This flexibility extends to easy maintenance and extension of the codebase, as new classes can be added or modified without affecting existing code that relies on the common interface. Polymorphism also enhances readability and scalability by abstracting shared behaviors and promoting expressive, concise code. Overall, polymorphism contributes significantly to the creation of modular, adaptable, and maintainable Python programs."
   ]
  },
  {
   "cell_type": "code",
   "execution_count": 58,
   "id": "7ac4bedf-fd51-48de-b6e7-13a0e21c499e",
   "metadata": {},
   "outputs": [
    {
     "name": "stdout",
     "output_type": "stream",
     "text": [
      "Woof!\n",
      "Meow!\n"
     ]
    }
   ],
   "source": [
    "####   13\n",
    "# The super() function in Python is used to call methods from a parent or superclass in the context of inheritance. In the context of polymorphism, super() is particularly helpful when you want to extend or override a method in a subclass while still utilizing the functionality provided by the same method in the parent class. It ensures that the method in the parent class is called before the one in the subclass, allowing for cooperative multiple inheritance. For example:-\n",
    "class Animal:\n",
    "  def __init__(self, name):\n",
    "    self.name = name\n",
    "\n",
    "  def make_sound(self):\n",
    "    return \"Grrrr\"\n",
    "\n",
    "class Dog(Animal):\n",
    "  def make_sound(self):\n",
    "    return \"Woof!\"\n",
    "    \n",
    "class Cat(Animal):\n",
    "  def make_sound(self):\n",
    "    return \"Meow!\"\n",
    "\n",
    "# Demonstrate polymorphism\n",
    "def animal_sound(animal):\n",
    "  return animal.make_sound()\n",
    "\n",
    "# Example usage\n",
    "dog = Dog(\"Max\")\n",
    "cat = Cat(\"Kitty\")\n",
    "\n",
    "print(animal_sound(dog))\n",
    "print(animal_sound(cat))"
   ]
  },
  {
   "cell_type": "code",
   "execution_count": 59,
   "id": "a836b015-dfb0-4df7-a5f1-83d76562ca55",
   "metadata": {},
   "outputs": [
    {
     "name": "stdout",
     "output_type": "stream",
     "text": [
      "100 Withdraw from SavingsAccount\n",
      "200 Withdraw from CheckingAccount\n",
      "300 Withdraw from CreditCardAccount\n"
     ]
    }
   ],
   "source": [
    "####   14\n",
    "\n",
    "class BankAccount:\n",
    "    def withdraw(self, amount):\n",
    "      self.amount = amount\n",
    "      pass\n",
    "\n",
    "class SavingsAccount(BankAccount):\n",
    "    def withdraw(self, amount):\n",
    "        print(amount , \"Withdraw from SavingsAccount\")\n",
    "\n",
    "class CheckingAccount(BankAccount):\n",
    "    def withdraw(self, amount):\n",
    "        print(amount,\"Withdraw from CheckingAccount\")\n",
    "\n",
    "class CreditCardAccount(BankAccount):\n",
    "    def withdraw(self, amount):\n",
    "        print(amount,\"Withdraw from CreditCardAccount\")\n",
    "\n",
    "# Demonstrate polymorphism\n",
    "def withdraw(account, amount):\n",
    "    account.withdraw(amount)\n",
    "  \n",
    "# Example usage\n",
    "savings_account = SavingsAccount()\n",
    "checking_account = CheckingAccount()\n",
    "credit_card_account = CreditCardAccount()\n",
    "withdraw(savings_account, 100)\n",
    "withdraw(checking_account, 200)\n",
    "withdraw(credit_card_account, 300)"
   ]
  },
  {
   "cell_type": "code",
   "execution_count": 60,
   "id": "1e41e901-717d-4bd6-b6e0-ed33d2afcbe5",
   "metadata": {},
   "outputs": [
    {
     "name": "stdout",
     "output_type": "stream",
     "text": [
      "Addition Result: (4, 6)\n",
      "Multiplication Result: (2, 4)\n"
     ]
    }
   ],
   "source": [
    "####    15\n",
    "# Operator overloading in Python refers to the ability to define custom behavior for standard operators when applied to objects of a class. This allows you to extend or modify the default behavior of operators, making them work with user-defined types. Operator overloading is closely related to polymorphism, as it allows objects of different types to interact with operators in a uniform and intuitive way. In Python, operator overloading is achieved by defining special methods in a class, such as __add__ for addition (+) or __mul__ for multiplication (*). These methods get called when the corresponding operator is used on objects of that class. FOR EXAMPLE :-\n",
    "class Point:\n",
    "    def __init__(self, x, y):\n",
    "        self.x = x\n",
    "        self.y = y  \n",
    "      \n",
    "    def __add__(self, other):\n",
    "        return Point(self.x + other.x, self.y + other.y)\n",
    "      \n",
    "    def __mul__(self, other):\n",
    "        return Point(self.x * other, self.y * other)\n",
    "\n",
    "    def __str__(self):\n",
    "      return f\"({self.x}, {self.y})\"\n",
    "\n",
    "# Example usage\n",
    "p1 = Point(1, 2)\n",
    "p2 = Point(3, 4)\n",
    "\n",
    "# Using the overloaded addition operator '+'\n",
    "result_addition = p1 +p2\n",
    "print(f\"Addition Result: {result_addition}\")  \n",
    "\n",
    "# Using the overloaded multiplication operator '*'\n",
    "result_multiplication = p1 * 2\n",
    "print(f\"Multiplication Result: {result_multiplication}\")"
   ]
  },
  {
   "cell_type": "markdown",
   "id": "abcb9c25-f3af-49df-b0cd-04d85c8506fb",
   "metadata": {},
   "source": [
    "####   16\n",
    "# Dynamic polymorphism, also known as runtime polymorphism, is a type of polymorphism that occurs at runtime. In dynamic polymorphism, the correct method or function is determined and executed at runtime based on the actual type of the object. This allows for flexibility in code execution and enables different objects to be treated uniformly through a common interface.\n",
    "# In Python, dynamic polymorphism is achieved through method overriding and late binding. Method overriding occurs when a subclass provides a specific implementation for a method that is already defined in its superclass. Late binding, on the other hand, means that the decision about which method to call is made at runtime."
   ]
  },
  {
   "cell_type": "code",
   "execution_count": 61,
   "id": "9c9b73f1-d604-48a8-afa1-e762152f68a8",
   "metadata": {},
   "outputs": [
    {
     "name": "stdout",
     "output_type": "stream",
     "text": [
      "100000\n",
      "80000\n",
      "70000\n"
     ]
    }
   ],
   "source": [
    "####   17\n",
    "class Employee:\n",
    "    def calculate_salary(self):\n",
    "        pass\n",
    "\n",
    "class Manager(Employee):\n",
    "    def calculate_salary(self):\n",
    "        return 100000\n",
    "\n",
    "class Developer(Employee):\n",
    "    def calculate_salary(self):\n",
    "        return 80000\n",
    "\n",
    "class Designer(Employee):\n",
    "    def calculate_salary(self):\n",
    "        return 70000\n",
    "\n",
    "# Demonstrate polymorphism\n",
    "def calculate_salary(employee):\n",
    "    return employee.calculate_salary()\n",
    "\n",
    "# Example usage\n",
    "manager = Manager()\n",
    "developer = Developer()\n",
    "designer = Designer()\n",
    "print(calculate_salary(manager))\n",
    "print(calculate_salary(developer))\n",
    "print(calculate_salary(designer))"
   ]
  },
  {
   "cell_type": "code",
   "execution_count": 62,
   "id": "162f5175-c5fb-4871-8e9e-b164ae51f7c5",
   "metadata": {},
   "outputs": [
    {
     "name": "stdout",
     "output_type": "stream",
     "text": [
      "Woof!\n",
      "Meow!\n"
     ]
    }
   ],
   "source": [
    "####    18\n",
    "# In Python, the concept of function pointers is not explicit as in some other programming languages like C or C++. However, the idea of achieving polymorphism through function pointers can be translated to Python using first-class functions and function references. In Python, functions are first-class citizens, which means they can be passed as arguments to other functions, returned as values from other functions, and assigned to variables. This flexibility allows for the emulation of function pointers and, consequently, the implementation of polymorphism. FOR EXAMPLE :-\n",
    "class Dog:\n",
    "  def speak(self):\n",
    "      return \"Woof!\"\n",
    "\n",
    "class Cat:\n",
    "  def speak(self):\n",
    "      return \"Meow!\"\n",
    "\n",
    "def animal_sound(animal):\n",
    "  return animal.speak()\n",
    "\n",
    "# Creating instances of Dog and Cat\n",
    "dog = Dog()\n",
    "cat = Cat()\n",
    "\n",
    "# Using the function pointer to achieve polymorphism\n",
    "print(animal_sound(dog))\n",
    "print(animal_sound(cat))"
   ]
  },
  {
   "cell_type": "markdown",
   "id": "59e62868-1c52-4a64-a0d9-ffcde26797d2",
   "metadata": {},
   "source": [
    "####    19\n",
    "# Abstract Classes:-\n",
    "# An abstract class is a class that cannot be instantiated on its own and is meant to be subclassed by other classes.Abstract classes provide a way to define a common base class that can be shared by multiple subclasses.Subclasses inherit both the interface and potentially some implementation from the abstract class.Abstract classes support the reuse of code through inheritance.\n",
    "# Interfaces::-\n",
    "# An interface is a collection of method signatures without any implementation. Unlike abstract classes, interfaces cannot have any implementation details.Interfaces define a contract that classes must adhere to by implementing all the methods declared in the interface.Classes implement interfaces, and a class can implement multiple interfaces."
   ]
  },
  {
   "cell_type": "code",
   "execution_count": 63,
   "id": "7a0d3385-6760-4913-90ac-efc3356b5e43",
   "metadata": {},
   "outputs": [
    {
     "name": "stdout",
     "output_type": "stream",
     "text": [
      "Lion:\n",
      "\n",
      "Eagle:\n",
      "\n",
      "Snake:\n",
      "\n",
      "Lion is giving birth.\n",
      "Eagle is flying.\n",
      "Snake is crawling.\n"
     ]
    }
   ],
   "source": [
    "####    20\n",
    "class Animal:\n",
    "    def __init__(self, name):\n",
    "        self.name = name\n",
    "\n",
    "    def eat(self):\n",
    "        pass\n",
    "\n",
    "    def sleep(self):\n",
    "        pass\n",
    "\n",
    "    def make_sound(self):\n",
    "        pass\n",
    "\n",
    "class Mammal(Animal):\n",
    "  def give_birth(self):\n",
    "    print(f\"{self.name} is giving birth.\")\n",
    "\n",
    "\n",
    "class Bird(Animal):\n",
    "  def fly(self):\n",
    "    print(f\"{self.name} is flying.\")\n",
    "\n",
    "\n",
    "class Reptile(Animal):\n",
    "  def crawl(self):\n",
    "    print(f\"{self.name} is crawling.\")\n",
    "\n",
    "# Creating instances of different animal types\n",
    "lion = Mammal(\"Lion\")\n",
    "eagle = Bird(\"Eagle\")\n",
    "snake = Reptile(\"Snake\")\n",
    "\n",
    "# Polymorphism in action\n",
    "animals = [lion, eagle, snake]\n",
    "\n",
    "for animal in animals:\n",
    "    print(f\"{animal.name}:\")\n",
    "    animal.make_sound()\n",
    "    animal.eat()\n",
    "    animal.sleep()\n",
    "    print()\n",
    "\n",
    "# Additional behaviors specific to each type\n",
    "lion.give_birth()\n",
    "eagle.fly()\n",
    "snake.crawl()"
   ]
  },
  {
   "cell_type": "markdown",
   "id": "a160c8c1-c2dc-462e-a1c9-0e22272d7870",
   "metadata": {},
   "source": [
    "########     Abstraction       #############"
   ]
  },
  {
   "cell_type": "code",
   "execution_count": 64,
   "id": "12937ac0-f8f1-49fd-8320-5c8db7189672",
   "metadata": {},
   "outputs": [
    {
     "name": "stdout",
     "output_type": "stream",
     "text": [
      "Area: 78.5\n",
      "Perimeter: 31.400000000000002\n",
      "\n",
      "Area: 16\n",
      "Perimeter: 16\n",
      "\n"
     ]
    }
   ],
   "source": [
    "#####   1\n",
    "# Abstraction is the process of hiding the implementation details of an object from the user. Abstraction is achieved by using the concept of interfaces and abstract classes. Interfaces are used to define the behavior of an object, while abstract classes are used to define the common behavior of an object.FOR EXAMPLE :-\n",
    "\n",
    "from abc import ABC, abstractmethod\n",
    "\n",
    "# Abstract class representing a shape\n",
    "class Shape(ABC):\n",
    "    @abstractmethod\n",
    "    def area(self):\n",
    "        pass\n",
    "\n",
    "    @abstractmethod\n",
    "    def perimeter(self):\n",
    "        pass\n",
    "\n",
    "# Concrete class representing a circle\n",
    "class Circle(Shape):\n",
    "    def __init__(self, radius):\n",
    "        self.radius = radius\n",
    "\n",
    "    def area(self):\n",
    "        return 3.14 * self.radius * self.radius\n",
    "\n",
    "    def perimeter(self):\n",
    "        return 2 * 3.14 * self.radius\n",
    "\n",
    "# Concrete class representing a square\n",
    "class Square(Shape):\n",
    "    def __init__(self, side_length):\n",
    "        self.side_length = side_length\n",
    "\n",
    "    def area(self):\n",
    "        return self.side_length * self.side_length\n",
    "\n",
    "    def perimeter(self):\n",
    "        return 4 * self.side_length\n",
    "\n",
    "# Using abstraction and polymorphism\n",
    "shapes = [Circle(5), Square(4)]\n",
    "\n",
    "for shape in shapes:\n",
    "    print(f\"Area: {shape.area()}\")\n",
    "    print(f\"Perimeter: {shape.perimeter()}\")\n",
    "    print()"
   ]
  },
  {
   "cell_type": "markdown",
   "id": "4eaf49dc-703b-41f1-9f85-6385a2fdd7e5",
   "metadata": {},
   "source": [
    "#####    2\n",
    "# Abstraction in programming simplifies code organization and reduces complexity by allowing developers to model high-level concepts with clear interfaces while hiding implementation details. This approach promotes code reusability, modularity, and ease of maintenance. Abstraction enables the creation of independent and self-contained components, reducing cognitive load for developers and facilitating collaboration within teams. With well-defined interfaces and polymorphism, abstraction enhances flexibility, making it easier to adapt and extend software systems. Overall, abstraction contributes to more readable, maintainable, and scalable codebases."
   ]
  },
  {
   "cell_type": "code",
   "execution_count": 65,
   "id": "a33b4ebc-b0f0-40e6-9c12-d7d62ca8ddd7",
   "metadata": {},
   "outputs": [
    {
     "name": "stdout",
     "output_type": "stream",
     "text": [
      "Circle area   153.86\n",
      "Rectangle area  50\n"
     ]
    }
   ],
   "source": [
    "#####    3\n",
    "from abc import ABC, abstractmethod\n",
    "class Shape(ABC):\n",
    "  @abstractmethod\n",
    "  def calculate_area(self):\n",
    "    pass \n",
    "\n",
    "class Circle(Shape):\n",
    "  def __init__(self, radius):\n",
    "    self.radius = radius\n",
    "  \n",
    "  def calculate_area(self):\n",
    "    return 3.14 * self.radius * self.radius\n",
    "\n",
    "class Rectangle(Shape):\n",
    "  def __init__(self, length, width):\n",
    "    self.length = length\n",
    "    self.width = width\n",
    "  \n",
    "  def calculate_area(self):\n",
    "    return self.length * self.width\n",
    "  \n",
    "s1 = Circle(7)\n",
    "s2 = Rectangle(5,10)\n",
    "print(\"Circle area  \",s1.calculate_area())\n",
    "print(\"Rectangle area \",s2.calculate_area())"
   ]
  },
  {
   "cell_type": "code",
   "execution_count": 66,
   "id": "2db16181-084c-4443-853b-2221b34e9d84",
   "metadata": {},
   "outputs": [
    {
     "name": "stdout",
     "output_type": "stream",
     "text": [
      "Circle - Area: 78.5\n",
      "Rectangle - Area: 12\n"
     ]
    }
   ],
   "source": [
    "#####    4\n",
    "# In Python, an abstract class is a class that cannot be instantiated on its own and is meant to be subclassed by other classes. Abstract classes often contain abstract methods, which are methods without any implementation. These methods must be implemented by concrete subclasses, enforcing a certain interface. The abc module in Python provides tools for working with abstract classes. To define an abstract class, you can use the ABC (Abstract Base Class) as a metaclass for your class. Additionally, the @abstractmethod decorator is used to declare abstract methods within the abstract class.FOR EXAMPLE :-\n",
    "from abc import ABC, abstractmethod\n",
    "\n",
    "class Shape(ABC):\n",
    "    @abstractmethod\n",
    "    def calculate_area(self):\n",
    "        pass\n",
    "\n",
    "class Circle(Shape):\n",
    "    def __init__(self, radius):\n",
    "        self.radius = radius\n",
    "\n",
    "    def calculate_area(self):\n",
    "        return 3.14 * self.radius * self.radius\n",
    "   \n",
    "class Rectangle(Shape):\n",
    "    def __init__(self, length, width):\n",
    "        self.length = length\n",
    "        self.width = width\n",
    "\n",
    "    def calculate_area(self):\n",
    "        return self.length * self.width\n",
    "\n",
    "# Example usage:\n",
    "\n",
    "# Creating instances of Circle and Rectangle\n",
    "circle = Circle(radius=5)\n",
    "rectangle = Rectangle(length=4, width=3)\n",
    "\n",
    "# Calculating and printing area and perimeter\n",
    "print(f\"Circle - Area: {circle.calculate_area()}\")\n",
    "\n",
    "print(f\"Rectangle - Area: {rectangle.calculate_area()}\")"
   ]
  },
  {
   "cell_type": "code",
   "execution_count": 67,
   "id": "7a803bb5-34ae-41b4-912b-16a163b9f315",
   "metadata": {},
   "outputs": [
    {
     "name": "stdout",
     "output_type": "stream",
     "text": [
      "Woof!\n",
      "Woof!\n"
     ]
    }
   ],
   "source": [
    "#####    5\n",
    "# Regular classes in Python are directly instantiated and can contain methods with or without implementations. They are suitable for scenarios where instances of the class are created independently. In contrast, abstract classes cannot be instantiated on their own and serve as blueprints for other classes. They often include abstract methods that must be implemented by concrete subclasses, enforcing a common interface and structure across related classes. Abstract classes are used when you want to define a contract for a family of classes, ensuring that specific methods are implemented in each subclass. They promote code organization, modularity, and the enforcement of a consistent design pattern.\n",
    "# Regular Classes Example :-\n",
    "class Dog:\n",
    "    def speak(self):\n",
    "        print(\"Woof!\")\n",
    "\n",
    "my_dog = Dog()\n",
    "my_dog.speak()\n",
    "\n",
    "# Abstract Classes Example :-\n",
    "from abc import ABC, abstractmethod\n",
    "\n",
    "class Animal(ABC):\n",
    "    @abstractmethod\n",
    "    def speak(self):\n",
    "        pass\n",
    "\n",
    "class Dog(Animal):\n",
    "    def speak(self):\n",
    "        print(\"Woof!\")\n",
    "\n",
    "my_dog = Dog()\n",
    "my_dog.speak()"
   ]
  },
  {
   "cell_type": "code",
   "execution_count": 68,
   "id": "1c5a48c7-cc40-4209-8b05-729b5cd78cb1",
   "metadata": {},
   "outputs": [
    {
     "name": "stdout",
     "output_type": "stream",
     "text": [
      "Deposited $500.0. New balance: $1500.0\n",
      "Withdrew $200.0. New balance: $1300.0\n",
      "Current balance: $1300.0\n"
     ]
    }
   ],
   "source": [
    "####    6\n",
    "class BankAccount:\n",
    "  def __init__(self, account_holder, initial_balance=0.0):\n",
    "      self.account_holder = account_holder\n",
    "      self.__balance = initial_balance  # Double underscore (__) indicates a private attribute\n",
    "\n",
    "  def deposit(self, amount):\n",
    "      if amount > 0:\n",
    "          self.__balance += amount\n",
    "          print(f\"Deposited ${amount}. New balance: ${self.__balance}\")\n",
    "      else:\n",
    "          print(\"Invalid deposit amount. Please deposit a positive amount.\")\n",
    "\n",
    "  def withdraw(self, amount):\n",
    "      if 0 < amount <= self.__balance:\n",
    "          self.__balance -= amount\n",
    "          print(f\"Withdrew ${amount}. New balance: ${self.__balance}\")\n",
    "      else:\n",
    "          print(\"Invalid withdrawal amount or insufficient funds.\")\n",
    "\n",
    "  def get_balance(self):\n",
    "      return self.__balance\n",
    "\n",
    "# Example usage:\n",
    "\n",
    "# Creating an instance of BankAccount\n",
    "account1 = BankAccount(account_holder=\"John Doe\", initial_balance=1000.0)\n",
    "\n",
    "# Depositing and withdrawing funds\n",
    "account1.deposit(500.0)\n",
    "account1.withdraw(200.0)\n",
    "\n",
    "# Accessing balance through a getter method\n",
    "current_balance = account1.get_balance()\n",
    "print(f\"Current balance: ${current_balance}\")"
   ]
  },
  {
   "cell_type": "markdown",
   "id": "2a4e3038-9e3e-4e80-bd7d-ed7bc59ad86c",
   "metadata": {},
   "source": [
    "#####    7\n",
    "# In Python, interface classes are not explicitly defined as a separate construct like in some other programming languages. However, the concept of interfaces is still achieved through abstract classes, particularly using the abc module and abstract methods. An interface, in the context of Python, refers to a set of methods that a class must implement to conform to a certain contract. This contract establishes a common interface for a group of related classes, promoting abstraction and polymorphism. The abc module in Python allows the creation of abstract base classes (ABCs) and abstract methods, which serve as a form of interface. An abstract method is a method declared in an abstract class but without any implementation. Concrete subclasses must provide implementations for these abstract methods, ensuring adherence to the interface."
   ]
  },
  {
   "cell_type": "code",
   "execution_count": 69,
   "id": "53dfb412-57a1-4fb5-b9af-6b9675e2f00b",
   "metadata": {},
   "outputs": [
    {
     "name": "stdout",
     "output_type": "stream",
     "text": [
      "Dog is eating\n",
      "Dog is sleeping\n",
      "Cat is eating\n",
      "Cat is sleeping\n"
     ]
    }
   ],
   "source": [
    "#####   8\n",
    "from abc import ABC, abstractmethod\n",
    "\n",
    "class Animal(ABC):\n",
    "    @abstractmethod\n",
    "    def eat(self):\n",
    "        pass\n",
    "    \n",
    "    @abstractmethod\n",
    "    def sleep(self):\n",
    "        pass\n",
    "\n",
    "class Dog(Animal):\n",
    "    def eat(self):\n",
    "        print(\"Dog is eating\")\n",
    "\n",
    "    def sleep(self):\n",
    "        print(\"Dog is sleeping\")\n",
    "\n",
    "class Cat(Animal):\n",
    "    def eat(self):\n",
    "        print(\"Cat is eating\")\n",
    "\n",
    "    def sleep(self):\n",
    "        print(\"Cat is sleeping\")\n",
    "\n",
    "# Example usage:\n",
    "dog = Dog()\n",
    "cat = Cat()\n",
    "dog.eat()\n",
    "dog.sleep()\n",
    "cat.eat()\n",
    "cat.sleep()"
   ]
  },
  {
   "cell_type": "code",
   "execution_count": 71,
   "id": "66cdf9d1-53f1-4062-97f9-5680224c3b24",
   "metadata": {},
   "outputs": [
    {
     "name": "stdout",
     "output_type": "stream",
     "text": [
      "Balance  500\n"
     ]
    }
   ],
   "source": [
    "######    9\n",
    "# Encapsulation is a vital concept in achieving abstraction in object-oriented programming. It involves bundling data and methods within a class, allowing for the control of access to an object's internal state through well-defined interfaces. By encapsulating implementation details, developers can hide complexities, promote modularity, and enhance security. Encapsulation prevents direct access to internal attributes, encouraging the use of methods for interaction. This approach simplifies the use of classes, facilitates changes to the internal implementation without affecting external code, and ensures a more secure and maintainable codebase. Overall, encapsulation contributes significantly to achieving abstraction by creating a clear boundary between an object's external interface and its internal workings.FOR EXAMPLE with encapsulation:-\n",
    "class BankAccountWithEncapsulation:\n",
    "  def __init__(self, balance):\n",
    "      self._balance = balance  # Encapsulating balance with an underscore\n",
    "\n",
    "  def get_balance(self):\n",
    "      return self._balance\n",
    "\n",
    "  def deposit(self, amount):\n",
    "      if amount > 0:\n",
    "          self._balance += amount\n",
    "\n",
    "  def withdraw(self, amount):\n",
    "      if 0 < amount <= self._balance:\n",
    "          self._balance -= amount\n",
    "\n",
    "# Encapsulating balance and providing controlled access\n",
    "account = BankAccountWithEncapsulation(balance=1000)\n",
    "account.withdraw(500)\n",
    "print(\"Balance \", account.get_balance())  # Accessing balance through a method"
   ]
  },
  {
   "cell_type": "markdown",
   "id": "76a735f9-f6ba-4a0f-a81b-893929a76f7d",
   "metadata": {},
   "source": [
    "#####    10\n",
    "# Abstract methods serve the purpose of defining a method signature in an abstract class without providing any implementation. These methods act as placeholders, and concrete subclasses must provide their own implementations for these abstract methods. The presence of abstract methods in an abstract class enforces a contract or interface that all subclasses must adhere to, promoting a level of abstraction and ensuring a consistent structure across related classes. In Python, abstract methods are often created using the @abstractmethod decorator from the abc (Abstract Base Classes) module. When a class contains abstract methods, it becomes an abstract class itself, and it cannot be instantiated directly. Concrete subclasses are required to provide implementations for all abstract methods, effectively enforcing the desired behavior across the hierarchy."
   ]
  },
  {
   "cell_type": "code",
   "execution_count": 72,
   "id": "8e0a4992-c620-413e-a070-a0a5e0638086",
   "metadata": {},
   "outputs": [
    {
     "name": "stdout",
     "output_type": "stream",
     "text": [
      "Car started\n",
      "Car stopped\n",
      "Motorcycle started\n",
      "Motorcycle stopped\n"
     ]
    }
   ],
   "source": [
    "#####     11\n",
    "from abc import ABC, abstractmethod\n",
    "\n",
    "class Vehicle(ABC):\n",
    "    @abstractmethod\n",
    "    def start(self):\n",
    "        pass\n",
    "\n",
    "    @abstractmethod\n",
    "    def stop(self):\n",
    "        pass\n",
    "\n",
    "class Car(Vehicle):\n",
    "    def start(self):\n",
    "        print(\"Car started\")\n",
    "\n",
    "    def stop(self):\n",
    "        print(\"Car stopped\")\n",
    "\n",
    "class Motorcycle(Vehicle):\n",
    "    def start(self):\n",
    "        print(\"Motorcycle started\")\n",
    "\n",
    "    def stop(self):\n",
    "        print(\"Motorcycle stopped\")\n",
    "\n",
    "\n",
    "# Example usage:\n",
    "car = Car()\n",
    "car.start()\n",
    "car.stop()\n",
    "motorcycle = Motorcycle()\n",
    "motorcycle.start()\n",
    "motorcycle.stop()"
   ]
  },
  {
   "cell_type": "markdown",
   "id": "2fb9b74a-218d-42ba-b2b6-2687b4b6b691",
   "metadata": {},
   "source": [
    "#####    12\n",
    "# In Python, abstract properties are a way to declare abstract attributes in abstract classes. Abstract properties are defined using the @property decorator along with the @abstractmethod decorator from the abc (Abstract Base Classes) module. Abstract properties enforce the presence of certain attributes in concrete subclasses, promoting a consistent interface and behavior across related classes."
   ]
  },
  {
   "cell_type": "code",
   "execution_count": 73,
   "id": "e88c22c4-58e6-4824-a05c-0cee0d81c7fc",
   "metadata": {},
   "outputs": [
    {
     "name": "stdout",
     "output_type": "stream",
     "text": [
      "Alice Developer's Salary: $65000\n",
      "Bob Designer's Salary: $58000\n"
     ]
    }
   ],
   "source": [
    "#####   13\n",
    "from abc import ABC, abstractmethod\n",
    "\n",
    "class Employee(ABC):\n",
    "    def __init__(self, name, employee_id):\n",
    "        self.name = name\n",
    "        self.employee_id = employee_id\n",
    "\n",
    "    @abstractmethod\n",
    "    def get_salary(self):\n",
    "        pass\n",
    "\n",
    "class Developer(Employee):\n",
    "    def __init__(self, name, employee_id, programming_language):\n",
    "        super().__init__(name, employee_id)\n",
    "        self.programming_language = programming_language\n",
    "\n",
    "    def get_salary(self):\n",
    "        base_salary = 60000\n",
    "        bonus_amount = 5000 if self.programming_language == \"Python\" else 0\n",
    "        return base_salary + bonus_amount\n",
    "\n",
    "class Designer(Employee):\n",
    "    def __init__(self, name, employee_id, years_of_experience):\n",
    "        super().__init__(name, employee_id)\n",
    "        self.years_of_experience = years_of_experience\n",
    "\n",
    "    def get_salary(self):\n",
    "        base_salary = 55000\n",
    "        experience_bonus = min(self.years_of_experience * 1000, 5000)\n",
    "        return base_salary + experience_bonus\n",
    "\n",
    "# Example usage:\n",
    "\n",
    "developer = Developer(name=\"Alice Developer\", employee_id=102, programming_language=\"Python\")\n",
    "designer = Designer(name=\"Bob Designer\", employee_id=103, years_of_experience=3)\n",
    "\n",
    "print(f\"{developer.name}'s Salary: ${developer.get_salary()}\")\n",
    "print(f\"{designer.name}'s Salary: ${designer.get_salary()}\")"
   ]
  },
  {
   "cell_type": "markdown",
   "id": "16edd402-0f55-457c-95fa-265f7d8df0eb",
   "metadata": {},
   "source": [
    "#####   14\n",
    "# Abstract classes, typically defined using the abc (Abstract Base Classes) module, cannot be instantiated directly. They often include abstract methods, declared using the @abstractmethod decorator, which act as placeholders and must be implemented by concrete subclasses. Abstract classes provide a blueprint for a family of related classes, enforcing a common interface and structure while leaving certain details to be defined by subclasses. Instances of abstract classes cannot be created, as their primary role is to serve as a base for other classes.While, In contrast, concrete classes are meant for direct instantiation. They can be instantiated without any restrictions, and they may or may not have abstract methods. Concrete classes provide complete implementations for all methods, including any abstract methods inherited from abstract classes. Instances of concrete classes can be created using the Class() syntax."
   ]
  },
  {
   "cell_type": "markdown",
   "id": "16953ca1-fc55-4143-90a0-4be2158b0e25",
   "metadata": {},
   "source": [
    "#####    15\n",
    "# Abstract Data Types (ADTs) are a high-level programming concept that focuses on describing the behavior and properties of data structures without specifying their internal implementation details. In Python, ADTs provide a way to encapsulate and organize data, as well as the operations that can be performed on that data, through well-defined interfaces. By abstracting away implementation specifics, ADTs facilitate a clear separation between the logical view of data and its physical representation, promoting a higher level of abstraction. This separation enhances code modularity, reusability, and maintainability, as developers can interact with data structures based on their abstract behaviors rather than getting involved with the intricacies of how they are implemented. Common examples of ADTs in Python include lists, sets, queues, and stacks, each offering a set of operations without revealing the underlying implementation details to the user."
   ]
  },
  {
   "cell_type": "code",
   "execution_count": 74,
   "id": "a88c7c7b-6e7b-4561-8089-23aa9d40a577",
   "metadata": {},
   "outputs": [
    {
     "name": "stdout",
     "output_type": "stream",
     "text": [
      "Powering on desktop...\n",
      "Shutting down desktop...\n",
      "Powering on laptop...\n",
      "Shutting down laptop...\n",
      "Powering on tablet...\n",
      "Shutting down tablet...\n"
     ]
    }
   ],
   "source": [
    "#####   16\n",
    "from abc import ABC, abstractmethod\n",
    "\n",
    "class ComputerSystem(ABC):\n",
    "    @abstractmethod\n",
    "    def power_on(self):\n",
    "        pass\n",
    "\n",
    "    @abstractmethod\n",
    "    def shutdown(self):\n",
    "        pass\n",
    "\n",
    "class Desktop(ComputerSystem):\n",
    "    def __init__(self, monitor_size):\n",
    "      self.monitor_size = monitor_size\n",
    "      \n",
    "    def power_on(self):\n",
    "      print(\"Powering on desktop...\")\n",
    "      \n",
    "    def shutdown(self):\n",
    "      print(\"Shutting down desktop...\")\n",
    "      \n",
    "class Laptop(ComputerSystem):\n",
    "    def __init__(self, monitor_size):\n",
    "      self.monitor_size = monitor_size\n",
    "      \n",
    "    def power_on(self):\n",
    "      print(\"Powering on laptop...\")\n",
    "      \n",
    "    def shutdown(self):\n",
    "      print(\"Shutting down laptop...\")\n",
    "      \n",
    "class Tablet(ComputerSystem):\n",
    "    def __init__(self, monitor_size):\n",
    "      self.monitor_size = monitor_size\n",
    "      \n",
    "    def power_on(self):\n",
    "      print(\"Powering on tablet...\")\n",
    "      \n",
    "    def shutdown(self):\n",
    "      print(\"Shutting down tablet...\")\n",
    "\n",
    "def main():\n",
    "    desktop = Desktop(monitor_size=19)\n",
    "    laptop = Laptop(monitor_size=19)\n",
    "    tablet = Tablet(monitor_size=19)\n",
    "    \n",
    "    desktop.power_on()\n",
    "    desktop.shutdown()\n",
    "    laptop.power_on()\n",
    "    laptop.shutdown()\n",
    "    tablet.power_on()\n",
    "    tablet.shutdown()\n",
    "    \n",
    "if __name__ == \"__main__\":\n",
    "    main()"
   ]
  },
  {
   "cell_type": "markdown",
   "id": "ea99da9b-ddcc-489a-96cf-02b0a4f14340",
   "metadata": {},
   "source": [
    "#####   17\n",
    "# Abstraction in large-scale software development projects offers several benefits. Firstly, it enhances code organization by allowing developers to focus on high-level concepts and interactions, reducing the cognitive load associated with intricate implementation details. Secondly, abstraction promotes code reuse through well-defined interfaces, enabling modular development and reducing redundancy. Additionally, it facilitates easier maintenance and extensibility, as modifications to specific components can be isolated without affecting the entire codebase. Abstraction fosters collaboration within development teams, as team members can work on different modules independently based on clear and standardized interfaces. Overall, abstraction plays a pivotal role in managing complexity, promoting maintainability, and facilitating teamwork in the context of large-scale software projects."
   ]
  },
  {
   "cell_type": "markdown",
   "id": "f53c556a-8b36-45ee-8acf-283da0d17d2b",
   "metadata": {},
   "source": [
    "#####    18\n",
    "# Abstraction in Python enhances code reusability and modularity by allowing developers to create independent, self-contained components with well-defined interfaces. Abstraction hides the underlying implementation details, enabling the reuse of high-level concepts without being concerned about the intricacies of how they are achieved. This separation of concerns simplifies the development process and encourages modular design. Modules or classes that embody abstracted functionality can be easily reused in different parts of the program or even in other projects, promoting a more efficient and scalable development workflow. Additionally, abstraction facilitates maintenance and updates since modifications to one component don't necessitate changes in unrelated parts of the codebase. Overall, abstraction in Python contributes to a more modular, reusable, and maintainable code structure."
   ]
  },
  {
   "cell_type": "code",
   "execution_count": 76,
   "id": "571bd346-9e4b-47b5-b414-13dd64ff269e",
   "metadata": {},
   "outputs": [
    {
     "name": "stdout",
     "output_type": "stream",
     "text": [
      "Book - Title: The Great Gatsby, Author: F. Scott Fitzgerald, Genre: Classic\n",
      "The Great Gatsby by F. Scott Fitzgerald has been borrowed.\n",
      "The Great Gatsby has been returned.\n",
      "\n",
      "\n",
      "Magazine - Title: National Geographic, Author: Various, Issue Number: May 2023\n",
      "National Geographic by Various has been borrowed.\n",
      "National Geographic is currently not available.\n",
      "National Geographic has been returned.\n"
     ]
    }
   ],
   "source": [
    "#####   19\n",
    "from abc import ABC, abstractmethod\n",
    "\n",
    "class LibraryItem(ABC):\n",
    "    def __init__(self, title, author, item_id):\n",
    "        self.title = title\n",
    "        self.author = author\n",
    "        self.item_id = item_id\n",
    "        self.is_available = True\n",
    "\n",
    "    @abstractmethod\n",
    "    def display_info(self):\n",
    "        pass\n",
    "\n",
    "    def borrow(self):\n",
    "        if self.is_available:\n",
    "            print(f\"{self.title} by {self.author} has been borrowed.\")\n",
    "            self.is_available = False\n",
    "        else:\n",
    "            print(f\"{self.title} is currently not available.\")\n",
    "\n",
    "    def return_item(self):\n",
    "        if not self.is_available:\n",
    "            print(f\"{self.title} has been returned.\")\n",
    "            self.is_available = True\n",
    "        else:\n",
    "            print(f\"{self.title} is already available.\")\n",
    "\n",
    "class Book(LibraryItem):\n",
    "    def __init__(self, title, author, item_id, genre):\n",
    "        super().__init__(title, author, item_id)\n",
    "        self.genre = genre\n",
    "\n",
    "    def display_info(self):\n",
    "        print(f\"Book - Title: {self.title}, Author: {self.author}, Genre: {self.genre}\")\n",
    "\n",
    "class Magazine(LibraryItem):\n",
    "    def __init__(self, title, author, item_id, issue_number):\n",
    "        super().__init__(title, author, item_id)\n",
    "        self.issue_number = issue_number\n",
    "\n",
    "    def display_info(self):\n",
    "        print(f\"Magazine - Title: {self.title}, Author: {self.author}, Issue Number: {self.issue_number}\")\n",
    "\n",
    "# Example usage:\n",
    "\n",
    "book = Book(title=\"The Great Gatsby\", author=\"F. Scott Fitzgerald\", item_id=\"B001\", genre=\"Classic\")\n",
    "magazine = Magazine(title=\"National Geographic\", author=\"Various\", item_id=\"M001\", issue_number=\"May 2023\")\n",
    "\n",
    "book.display_info()\n",
    "book.borrow()\n",
    "book.return_item()\n",
    "\n",
    "print(\"\\n\")\n",
    "\n",
    "magazine.display_info()\n",
    "magazine.borrow()\n",
    "magazine.borrow()\n",
    "magazine.return_item()"
   ]
  },
  {
   "cell_type": "markdown",
   "id": "1ae85817-3e85-4b48-bedf-fd02851d2c22",
   "metadata": {},
   "source": [
    "#####   20\n",
    "# Method abstraction in Python involves creating abstract methods in a base class that are meant to be overridden by concrete methods in subclasses. This concept is closely related to polymorphism, where different classes can provide their own implementation of the same method signature. By defining abstract methods in a base class, you establish a common interface or contract that all subclasses must adhere to, promoting a consistent structure across a class hierarchy. Polymorphism comes into play when instances of different classes, each implementing the same abstract method, can be used interchangeably. This allows for more flexible and dynamic behavior, where a single interface can be employed to interact with diverse objects, showcasing the power of method abstraction and polymorphism in enhancing code flexibility and maintainability in Python."
   ]
  },
  {
   "cell_type": "markdown",
   "id": "3ea01ab0-a6ec-47fb-b778-1ec3d359133c",
   "metadata": {},
   "source": [
    "#########     COMPOSITION     ############"
   ]
  },
  {
   "cell_type": "markdown",
   "id": "15beba4d-997a-4faf-82e5-5f8f95476490",
   "metadata": {},
   "source": [
    "######     1\n",
    "# Composition in Python involves constructing complex objects by combining simpler ones, fostering a modular and flexible approach to building software. It emphasizes the creation of relationships between objects rather than relying solely on inheritance. Through composition, a class can include instances of other classes as attributes, allowing for the integration of their functionalities. This enables developers to create more maintainable and reusable code by favoring the assembly of smaller, focused components rather than relying on large, monolithic structures. By encapsulating functionality within individual classes and composing them to form more intricate objects, composition supports a more modular, scalable, and adaptable design paradigm in Python programming."
   ]
  },
  {
   "cell_type": "markdown",
   "id": "0f742f99-0e77-4694-b74c-9e2d3e39c89a",
   "metadata": {},
   "source": [
    "#####    2\n",
    "# Composition:-\n",
    "# Composition involves constructing complex objects by combining simpler ones, typically by including instances of other classes as attributes within a class.It emphasizes building objects through relationships, encapsulating functionality within smaller, focused components.Composition is more flexible than inheritance, allowing for dynamic relationships and enabling a modular and adaptable design.Promotes code reusability by assembling classes with specific functionalities, fostering a more maintainable and scalable codebase.\n",
    "# Inheritance:-\n",
    "# Inheritance involves creating a new class by inheriting attributes and methods from an existing class.It establishes an \"is-a\" relationship, where the derived class is a specialized version of the base class.Inheritance creates a hierarchy of classes, with the base class providing a foundation for common attributes and behaviors.Relies on the reuse of code from a base class, but can lead to issues like tight coupling and a less flexible design when misapplied."
   ]
  },
  {
   "cell_type": "code",
   "execution_count": 77,
   "id": "66bb9063-3553-432c-ae96-bbd7a6f6a902",
   "metadata": {},
   "outputs": [
    {
     "name": "stdout",
     "output_type": "stream",
     "text": [
      "Title: Python Programming\n",
      "Author: John Doe\n",
      "Birthdate of Author: January 1, 1980\n",
      "Publication Year: 2020\n"
     ]
    }
   ],
   "source": [
    "######   3\n",
    "class Author:\n",
    "  def __init__(self, name, birthdate):\n",
    "      self.name = name\n",
    "      self.birthdate = birthdate\n",
    "\n",
    "class Book:\n",
    "  def __init__(self, title, author, publication_year):\n",
    "      self.title = title\n",
    "      self.author = author  # Author instance as a composition\n",
    "      self.publication_year = publication_year\n",
    "\n",
    "  def display_info(self):\n",
    "      print(f\"Title: {self.title}\")\n",
    "      print(f\"Author: {self.author.name}\")\n",
    "      print(f\"Birthdate of Author: {self.author.birthdate}\")\n",
    "      print(f\"Publication Year: {self.publication_year}\")\n",
    "\n",
    "\n",
    "# Example usage:\n",
    "author1 = Author(name=\"John Doe\", birthdate=\"January 1, 1980\")\n",
    "book1 = Book(title=\"Python Programming\", author=author1, publication_year=2020)\n",
    "\n",
    "# Display information about the book\n",
    "book1.display_info()"
   ]
  },
  {
   "cell_type": "markdown",
   "id": "bd661be5-9373-4567-be6e-bdc20a382c51",
   "metadata": {},
   "source": [
    "#####    4\n",
    "# Using composition over inheritance in Python offers several benefits in terms of code flexibility and reusability. Composition allows for a more flexible and modular design, as it enables you to build complex objects by combining simpler ones. This promotes a \"has-a\" relationship rather than an \"is-a\" relationship, making it easier to adapt to changing requirements. With composition, you can easily switch or add components without altering existing code, leading to more maintainable and less error-prone systems. It also encourages the creation of smaller, more focused classes, promoting code reuse and reducing the impact of changes in one part of the codebase on other unrelated parts. Overall, composition provides a more adaptable and scalable approach, fostering a design that is resilient to evolving project needs."
   ]
  },
  {
   "cell_type": "code",
   "execution_count": 78,
   "id": "b07ad9e3-35ba-4627-8b18-3ec498ebd018",
   "metadata": {},
   "outputs": [
    {
     "name": "stdout",
     "output_type": "stream",
     "text": [
      "Engine started.\n",
      "Wheels rotating.\n",
      "Car is in motion.\n"
     ]
    }
   ],
   "source": [
    "#####    5\n",
    "# In Python, composition can be implemented by creating instances of other classes as attributes within a class. These instances then become components or parts of the larger, more complex object. For example, consider a Car class that uses composition to include a Engine and Wheels:FOR EXAMPLE :-\n",
    "class Engine:\n",
    "  def start(self):\n",
    "      print(\"Engine started.\")\n",
    "\n",
    "class Wheels:\n",
    "  def rotate(self):\n",
    "      print(\"Wheels rotating.\")\n",
    "\n",
    "class Car:\n",
    "  def __init__(self):\n",
    "      self.engine = Engine()\n",
    "      self.wheels = Wheels()\n",
    "\n",
    "  def drive(self):\n",
    "      self.engine.start()\n",
    "      self.wheels.rotate()\n",
    "      print(\"Car is in motion.\")\n",
    "\n",
    "# Example usage:\n",
    "my_car = Car()\n",
    "my_car.drive()"
   ]
  },
  {
   "cell_type": "code",
   "execution_count": 79,
   "id": "f6e0d4df-bed1-4464-96fb-99a21eb12462",
   "metadata": {},
   "outputs": [
    {
     "name": "stdout",
     "output_type": "stream",
     "text": [
      "Playing all songs in playlist 'My Playlist':\n",
      "Playing: Song 1 by Artist 1\n",
      "Playing: Song 2 by Artist 2\n"
     ]
    }
   ],
   "source": [
    "######     6\n",
    "class Song:\n",
    "  def __init__(self, title, artist, duration):\n",
    "      self.title = title\n",
    "      self.artist = artist\n",
    "      self.duration = duration\n",
    "\n",
    "  def play(self):\n",
    "      print(f\"Playing: {self.title} by {self.artist}\")\n",
    "\n",
    "class Playlist:\n",
    "  def __init__(self, name):\n",
    "      self.name = name\n",
    "      self.songs = []\n",
    "\n",
    "  def add_song(self, song):\n",
    "      self.songs.append(song)\n",
    "\n",
    "  def play_all(self):\n",
    "      print(f\"Playing all songs in playlist '{self.name}':\")\n",
    "      for song in self.songs:\n",
    "          song.play()\n",
    "\n",
    "class MusicPlayer:\n",
    "  def __init__(self):\n",
    "      self.playlists = []\n",
    "\n",
    "  def add_playlist(self, playlist):\n",
    "      self.playlists.append(playlist)\n",
    "\n",
    "# Example usage:\n",
    "song1 = Song(title=\"Song 1\", artist=\"Artist 1\", duration=\"3:30\")\n",
    "song2 = Song(title=\"Song 2\", artist=\"Artist 2\", duration=\"4:15\")\n",
    "\n",
    "playlist1 = Playlist(name=\"My Playlist\")\n",
    "playlist1.add_song(song1)\n",
    "playlist1.add_song(song2)\n",
    "\n",
    "player = MusicPlayer()\n",
    "player.add_playlist(playlist1)\n",
    "\n",
    "# Play all songs in the playlist\n",
    "playlist1.play_all()"
   ]
  },
  {
   "cell_type": "markdown",
   "id": "691928e7-bb05-4c92-8449-b7d2f3157a9a",
   "metadata": {},
   "source": [
    "#####    7\n",
    "# In a \"has-a\" relationship through composition, a class contains instances of other classes as attributes. This design promotes modularity, reusability, flexibility, and encapsulation in software systems. It allows for building complex objects from simpler parts, making the code more modular, maintainable, and scalable. In a \"has-a\" relationship, a class has components or parts that contribute to its functionality, and these parts are often represented by other classes."
   ]
  },
  {
   "cell_type": "code",
   "execution_count": 80,
   "id": "af1d793c-eec1-4391-896a-09710a6ca963",
   "metadata": {},
   "outputs": [
    {
     "name": "stdout",
     "output_type": "stream",
     "text": [
      "Intel CPU is processing data.\n",
      "RAM with 8 GB is storing data.\n",
      "Storage with 512 GB is reading data.\n"
     ]
    }
   ],
   "source": [
    "#####    8\n",
    "class CPU:\n",
    "  def __init__(self, brand, speed):\n",
    "      self.brand = brand\n",
    "      self.speed = speed\n",
    "\n",
    "  def process_data(self):\n",
    "      print(f\"{self.brand} CPU is processing data.\")\n",
    "\n",
    "class RAM:\n",
    "  def __init__(self, capacity):\n",
    "      self.capacity = capacity\n",
    "\n",
    "  def store_data(self):\n",
    "      print(f\"RAM with {self.capacity} is storing data.\")\n",
    "\n",
    "class Storage:\n",
    "  def __init__(self, capacity):\n",
    "      self.capacity = capacity\n",
    "\n",
    "  def read_data(self):\n",
    "      print(f\"Storage with {self.capacity} is reading data.\")\n",
    "\n",
    "class ComputerSystem:\n",
    "  def __init__(self, cpu, ram, storage):\n",
    "      self.cpu = cpu\n",
    "      self.ram = ram\n",
    "      self.storage = storage\n",
    "\n",
    "  def perform_computations(self):\n",
    "      self.cpu.process_data()\n",
    "      self.ram.store_data()\n",
    "      self.storage.read_data()\n",
    "\n",
    "# Example usage:\n",
    "cpu = CPU(brand=\"Intel\", speed=\"3.0 GHz\")\n",
    "ram = RAM(capacity=\"8 GB\")\n",
    "storage = Storage(capacity=\"512 GB\")\n",
    "\n",
    "computer = ComputerSystem(cpu=cpu, ram=ram, storage=storage)\n",
    "computer.perform_computations()"
   ]
  },
  {
   "cell_type": "markdown",
   "id": "79296772-dc2e-4256-b285-823400ca208b",
   "metadata": {},
   "source": [
    "#####     9\n",
    "# Delegation in composition allows a class to rely on the functionality of another class, promoting code reusability, modularity, flexibility, and encapsulation. It simplifies the design of complex systems by enabling the construction of objects from simpler, independently maintainable parts. This approach is an alternative to inheritance, emphasizing a \"has-a\" relationship over an \"is-a\" relationship.This approach promotes a \"has-a\" relationship, where a class has another class as a component, and it simplifies the design of complex systems in several ways."
   ]
  },
  {
   "cell_type": "code",
   "execution_count": 81,
   "id": "d4a01a9e-e393-4d16-94a0-be8378e47e0d",
   "metadata": {},
   "outputs": [
    {
     "name": "stdout",
     "output_type": "stream",
     "text": [
      "Engine started.\n",
      "Transmission shifting gear.\n",
      "Car is ready to go.\n",
      "Transmission shifting gear.\n",
      "Engine stopped.\n",
      "Car stopped.\n"
     ]
    }
   ],
   "source": [
    "#####    10\n",
    "class Engine:\n",
    "    def start(self):\n",
    "        print(\"Engine started.\")\n",
    "\n",
    "    def stop(self):\n",
    "        print(\"Engine stopped.\")\n",
    "\n",
    "class Wheels:\n",
    "    def rotate(self):\n",
    "        print(\"Wheels rotating.\")\n",
    "\n",
    "class Transmission:\n",
    "    def shift_gear(self):\n",
    "        print(\"Transmission shifting gear.\")\n",
    "\n",
    "class Car:\n",
    "    def __init__(self, engine, wheels, transmission):\n",
    "        self.engine = engine\n",
    "        self.wheels = wheels\n",
    "        self.transmission = transmission\n",
    "\n",
    "    def start(self):\n",
    "        self.engine.start()\n",
    "        self.transmission.shift_gear()\n",
    "        print(\"Car is ready to go.\")\n",
    "\n",
    "    def stop(self):\n",
    "        self.transmission.shift_gear() # Shift to neutral before stopping\n",
    "        self.engine.stop()\n",
    "        print(\"Car stopped.\")\n",
    "\n",
    "# Example usage:\n",
    "car_engine = Engine()\n",
    "car_wheels = Wheels()\n",
    "car_transmission = Transmission()\n",
    "\n",
    "my_car = Car(engine=car_engine, wheels=car_wheels, transmission=car_transmission)\n",
    "\n",
    "  # Start and stop the car\n",
    "my_car.start()\n",
    "my_car.stop()"
   ]
  },
  {
   "cell_type": "markdown",
   "id": "2761bb98-d215-43ac-b728-81a2929d941f",
   "metadata": {},
   "source": [
    "#####    11\n",
    "# In Python, you can encapsulate and hide the details of composed objects by using encapsulation principles, particularly through the use of private attributes and methods.\n",
    "# Private Attributes: Declare the attributes of your class as private by prefixing them with double underscores (__). This makes them not directly accessible from outside the class. Access to these attributes is controlled through public methods.\n",
    "# Public Methods: Provide public methods in your class to interact with the composed objects. These methods act as an interface to the outside world, allowing controlled access to the encapsulated details.\n",
    "# Getter and Setter Methods: If needed, use getter and setter methods to access or modify the encapsulated details. This allows you to control how the details are accessed or modified.\n",
    "# Abstraction through Interface: Define abstract classes or interfaces to represent the behavior expected from the composed objects. The concrete implementations of these interfaces can remain hidden within the class."
   ]
  },
  {
   "cell_type": "code",
   "execution_count": 83,
   "id": "622db3fc-8b3f-4fcb-b435-b5f3ffa5ba5f",
   "metadata": {},
   "outputs": [
    {
     "name": "stdout",
     "output_type": "stream",
     "text": [
      "Course Code: CS101\n",
      "Course Name: Python Programming\n",
      "Instructor:\n",
      "  - ID: 101\n",
      "  - Name: Sudhanshu Sir\n",
      "Students:\n",
      "  - ID: 1, Name: Aliya\n",
      "  - ID: 2, Name: Bobby\n",
      "Course Material: Introduction to Python\n",
      "Aliya has enrolled in Python Programming.\n",
      "Bobby has enrolled in Python Programming.\n",
      "Sudhanshu Sir is teaching Python Programming.\n"
     ]
    }
   ],
   "source": [
    "#####     12\n",
    "class Student:\n",
    "  def __init__(self, student_id, name):\n",
    "      self.student_id = student_id\n",
    "      self.name = name\n",
    "\n",
    "  def enroll(self, course):\n",
    "      print(f\"{self.name} has enrolled in {course}.\")\n",
    "\n",
    "class Instructor:\n",
    "  def __init__(self, instructor_id, name):\n",
    "      self.instructor_id = instructor_id\n",
    "      self.name = name\n",
    "\n",
    "  def teach(self, course):\n",
    "      print(f\"{self.name} is teaching {course}.\")\n",
    "\n",
    "class CourseMaterial:\n",
    "  def __init__(self, title, content):\n",
    "      self.title = title\n",
    "      self.content = content\n",
    "\n",
    "class UniversityCourse:\n",
    "  def __init__(self, course_code, course_name, instructor, students, course_material):\n",
    "      self.course_code = course_code\n",
    "      self.course_name = course_name\n",
    "      self.instructor = instructor\n",
    "      self.students = students\n",
    "      self.course_material = course_material\n",
    "\n",
    "  def display_info(self):\n",
    "      print(f\"Course Code: {self.course_code}\")\n",
    "      print(f\"Course Name: {self.course_name}\")\n",
    "      print(\"Instructor:\")\n",
    "      print(f\"  - ID: {self.instructor.instructor_id}\")\n",
    "      print(f\"  - Name: {self.instructor.name}\")\n",
    "      print(\"Students:\")\n",
    "      for student in self.students:\n",
    "          print(f\"  - ID: {student.student_id}, Name: {student.name}\")\n",
    "      print(f\"Course Material: {self.course_material.title}\")\n",
    "\n",
    "# Example usage:\n",
    "student1 = Student(1, \"Aliya\")\n",
    "student2 = Student(2, \"Bobby\")\n",
    "\n",
    "instructor = Instructor(101, \"Sudhanshu Sir\")\n",
    "\n",
    "course_material = CourseMaterial(\"Introduction to Python\", \"Basic Python concepts.\")\n",
    "\n",
    "python_course = UniversityCourse(\"CS101\", \"Python Programming\", instructor, [student1, student2], course_material)\n",
    "\n",
    "python_course.display_info()\n",
    "\n",
    "student1.enroll(\"Python Programming\")\n",
    "student2.enroll(\"Python Programming\")\n",
    "\n",
    "instructor.teach(\"Python Programming\")"
   ]
  },
  {
   "cell_type": "markdown",
   "id": "c7053725-b39c-4eae-9bc3-762dd308100d",
   "metadata": {},
   "source": [
    "#####    13\n",
    "# In composition, challenges include increased complexity, potential for boilerplate code, the risk of tight coupling between objects, difficulty in managing dependencies, and potential performance overhead. Careful design practices and patterns like Dependency Injection can help mitigate these challenges and ensure the benefits of composition are realized without sacrificing maintainability.To mitigate these challenges, developers often rely on good design practices, such as proper encapsulation, well-defined interfaces, and thoughtful consideration of dependencies. Additionally, patterns like Dependency Injection can help manage and decouple components, improving the flexibility and maintainability of composed systems. Despite these challenges, composition remains a powerful tool for building flexible and maintainable software systems when applied judiciously."
   ]
  },
  {
   "cell_type": "code",
   "execution_count": 84,
   "id": "1de521ac-30d8-4455-a9ee-5ac9dfc0c4e2",
   "metadata": {},
   "outputs": [
    {
     "name": "stdout",
     "output_type": "stream",
     "text": [
      "Menu: Italian Cuisine\n",
      "Dishes:\n",
      "Dish: Margherita Pizza\n",
      "Description: Classic Margherita pizza with fresh ingredients\n",
      "Ingredients:\n",
      "2 pieces of Tomato\n",
      "100 grams of Cheese\n",
      "1 bunch of Basil\n",
      "Dish: Spaghetti Bolognese\n",
      "Description: Spaghetti with rich tomato sauce and Parmesan cheese\n",
      "Ingredients:\n",
      "200 grams of Pasta\n",
      "1 cup of Tomato Sauce\n",
      "50 grams of Parmesan Cheese\n"
     ]
    }
   ],
   "source": [
    "#####     14\n",
    "class Ingredient:\n",
    "  def __init__(self, name, quantity, unit):\n",
    "      self.name = name\n",
    "      self.quantity = quantity\n",
    "      self.unit = unit\n",
    "\n",
    "  def display_info(self):\n",
    "      print(f\"{self.quantity} {self.unit} of {self.name}\")\n",
    "\n",
    "class Dish:\n",
    "  def __init__(self, name, description, ingredients):\n",
    "      self.name = name\n",
    "      self.description = description\n",
    "      self.ingredients = ingredients  # List of Ingredient instances\n",
    "\n",
    "  def display_info(self):\n",
    "      print(f\"Dish: {self.name}\")\n",
    "      print(f\"Description: {self.description}\")\n",
    "      print(\"Ingredients:\")\n",
    "      for ingredient in self.ingredients:\n",
    "          ingredient.display_info()\n",
    "\n",
    "class Menu:\n",
    "  def __init__(self, name, dishes):\n",
    "      self.name = name\n",
    "      self.dishes = dishes  # List of Dish instances\n",
    "\n",
    "  def display_info(self):\n",
    "      print(f\"Menu: {self.name}\")\n",
    "      print(\"Dishes:\")\n",
    "      for dish in self.dishes:\n",
    "          dish.display_info()\n",
    "\n",
    "# Example usage:\n",
    "ingredient1 = Ingredient(name=\"Tomato\", quantity=2, unit=\"pieces\")\n",
    "ingredient2 = Ingredient(name=\"Cheese\", quantity=100, unit=\"grams\")\n",
    "ingredient3 = Ingredient(name=\"Basil\", quantity=1, unit=\"bunch\")\n",
    "\n",
    "dish1 = Dish(name=\"Margherita Pizza\", description=\"Classic Margherita pizza with fresh ingredients\", ingredients=[ingredient1, ingredient2, ingredient3])\n",
    "\n",
    "ingredient4 = Ingredient(name=\"Pasta\", quantity=200, unit=\"grams\")\n",
    "ingredient5 = Ingredient(name=\"Tomato Sauce\", quantity=1, unit=\"cup\")\n",
    "ingredient6 = Ingredient(name=\"Parmesan Cheese\", quantity=50, unit=\"grams\")\n",
    "\n",
    "dish2 = Dish(name=\"Spaghetti Bolognese\", description=\"Spaghetti with rich tomato sauce and Parmesan cheese\", ingredients=[ingredient4, ingredient5, ingredient6])\n",
    "\n",
    "menu = Menu(name=\"Italian Cuisine\", dishes=[dish1, dish2])\n",
    "\n",
    "# Display information about the menu\n",
    "menu.display_info()"
   ]
  },
  {
   "cell_type": "markdown",
   "id": "484140b1-1536-4337-b496-b3cc6242b6e9",
   "metadata": {},
   "source": [
    "#####    15\n",
    "# Composition enhances code maintainability and modularity in Python by promoting a modular design where complex objects are constructed from independent, reusable components. This approach allows for clear separation of concerns, making it easier to understand, update, and extend the codebase. Components encapsulate specific functionality, enabling code reusability in different contexts. The flexibility of composition allows for easy modification or extension of the system without impacting existing code, and it simplifies dependency management, testing, and debugging. Overall, composition provides a structured and intuitive design that fosters maintainability and adaptability in Python programs."
   ]
  },
  {
   "cell_type": "code",
   "execution_count": 85,
   "id": "fec3be01-6cdc-4eba-9778-df8addff618a",
   "metadata": {},
   "outputs": [
    {
     "name": "stdout",
     "output_type": "stream",
     "text": [
      "Hero equipped Sword.\n",
      "Hero equipped Shield.\n",
      "Enemy equipped Axe.\n"
     ]
    }
   ],
   "source": [
    "#####    16\n",
    "class Weapon:\n",
    "  def __init__(self, name, damage):\n",
    "      self.name = name\n",
    "      self.damage = damage\n",
    "\n",
    "  def attack(self):\n",
    "      print(f\"Attacking with {self.name}, causing {self.damage} damage.\")\n",
    "\n",
    "class Armor:\n",
    "  def __init__(self, name, defense):\n",
    "      self.name = name\n",
    "      self.defense = defense\n",
    "\n",
    "  def absorb_damage(self, incoming_damage):\n",
    "      absorbed_damage = min(incoming_damage, self.defense)\n",
    "      print(f\"{self.name} absorbed {absorbed_damage} damage.\")\n",
    "      return incoming_damage - absorbed_damage\n",
    "\n",
    "class Inventory:\n",
    "  def __init__(self):\n",
    "      self.items = []\n",
    "\n",
    "  def add_item(self, item):\n",
    "      self.items.append(item)\n",
    "      print(f\"Added {item} to the inventory.\")\n",
    "\n",
    "class GameCharacter:\n",
    "  def __init__(self, name, health):\n",
    "      self.name = name\n",
    "      self.health = health\n",
    "      self.weapon = None\n",
    "      self.armor = None\n",
    "      self.inventory = Inventory()\n",
    "\n",
    "  def equip_weapon(self, weapon):\n",
    "      self.weapon = weapon\n",
    "      print(f\"{self.name} equipped {weapon.name}.\")\n",
    "\n",
    "  def equip_armor(self, armor):\n",
    "      self.armor = armor\n",
    "      print(f\"{self.name} equipped {armor.name}.\")\n",
    "\n",
    "  def take_damage(self, damage):\n",
    "      if self.armor:\n",
    "          damage = self.armor.absorb_damage(damage)\n",
    "      self.health -= damage\n",
    "      print(f\"{self.name} took {damage} damage. Current health: {self.health}\")\n",
    "\n",
    "# Example usage:\n",
    "sword = Weapon(name=\"Sword\", damage=20)\n",
    "shield = Armor(name=\"Shield\", defense=10)\n",
    "\n",
    "player_character = GameCharacter(name=\"Hero\", health=100)\n",
    "player_character.equip_weapon(sword)\n",
    "player_character.equip_armor(shield)\n",
    "\n",
    "enemy_character = GameCharacter(name=\"Enemy\", health=50)\n",
    "enemy_character.equip_weapon(Weapon(name=\"Axe\", damage=15))"
   ]
  },
  {
   "cell_type": "code",
   "execution_count": 86,
   "id": "c4e190f3-a805-4201-aa44-b1d9c15c254a",
   "metadata": {},
   "outputs": [
    {
     "name": "stdout",
     "output_type": "stream",
     "text": [
      "Engine started.\n"
     ]
    }
   ],
   "source": [
    "#####     17\n",
    "# In composition, \"aggregation\" represents a relationship where one class contains another class as a component, and the part can exist independently. The key difference from simple composition is that in aggregation, the part is not owned exclusively by the container and can be shared among multiple containers. Aggregation implies a \"has-a\" or \"uses-a\" relationship, emphasizing independence of the part. Simple composition, on the other hand, involves a more tightly coupled association where the part is a fundamental component owned by the container and cannot exist independently.FOR EXAMPLE :-\n",
    "# Aggregation Example\n",
    "class Department:\n",
    "    def __init__(self, name):\n",
    "        self.name = name\n",
    "        self.employees = []  # Aggregation: Employees can exist independently\n",
    "\n",
    "    def add_employee(self, employee):\n",
    "        self.employees.append(employee)\n",
    "\n",
    "class Employee:\n",
    "    def __init__(self, name):\n",
    "        self.name = name\n",
    "\n",
    "# Simple Composition Example\n",
    "class Engine:\n",
    "    def start(self):\n",
    "        print(\"Engine started.\")\n",
    "\n",
    "class Car:\n",
    "    def __init__(self):\n",
    "        self.engine = Engine()  # Composition: Engine is a fundamental part of the Car\n",
    "\n",
    "    def start(self):\n",
    "        self.engine.start()\n",
    "\n",
    "# Usage\n",
    "hr_department = Department(\"Human Resources\")\n",
    "employee1 = Employee(\"Alice\")\n",
    "employee2 = Employee(\"Bob\")\n",
    "hr_department.add_employee(employee1)\n",
    "hr_department.add_employee(employee2)\n",
    "\n",
    "my_car = Car()\n",
    "my_car.start()"
   ]
  },
  {
   "cell_type": "code",
   "execution_count": 87,
   "id": "6df60bb1-fede-42d6-97f4-8ecc1205ace5",
   "metadata": {},
   "outputs": [
    {
     "name": "stdout",
     "output_type": "stream",
     "text": [
      "Building a house...\n",
      "Rooms: ['Living Room', 'Kitchen', 'Bedroom']\n",
      "Furniture: ['Couch', 'Table']\n",
      "Appliance: ['Refrigerator', 'Television']\n"
     ]
    }
   ],
   "source": [
    "#####     18\n",
    "class House:\n",
    "    def __init__(self, rooms, furniture, appliance):\n",
    "        self.rooms = rooms\n",
    "        self.furniture = furniture\n",
    "        self.appliance = appliance\n",
    "\n",
    "class Room:\n",
    "    def __init__(self, name):\n",
    "        self.name = name\n",
    "\n",
    "class Furniture:\n",
    "    def __init__(self, name):\n",
    "        self.name = name\n",
    "\n",
    "class Appliance:\n",
    "    def __init__(self, name):\n",
    "        self.name = name\n",
    "\n",
    "# Composition Example\n",
    "class HouseBuilder:\n",
    "    def __init__(self):\n",
    "        self.house = None\n",
    "      \n",
    "    def build_house(self, rooms, furniture, appliance):\n",
    "        self.house = House(rooms, furniture, appliance)\n",
    "        print(\"Building a house...\")\n",
    "        print(f\"Rooms: {self.house.rooms}\")\n",
    "        print(f\"Furniture: {self.house.furniture}\")\n",
    "        print(f\"Appliance: {self.house.appliance}\")\n",
    "      \n",
    "    def get_house(self):\n",
    "        return self.house\n",
    "      \n",
    "# Usage\n",
    "builder = HouseBuilder()\n",
    "builder.build_house([\"Living Room\", \"Kitchen\", \"Bedroom\"], [\"Couch\", \"Table\"], [\"Refrigerator\", \"Television\"])\n",
    "house = builder.get_house()"
   ]
  },
  {
   "cell_type": "markdown",
   "id": "59b72662-5044-4158-b07c-34220f83e19d",
   "metadata": {},
   "source": [
    "#####    19\n",
    "# Achieving flexibility in composed objects at runtime can be done through interfaces, abstract classes, dependency injection, and design patterns like the strategy pattern. By defining clear interfaces, allowing dynamic injection of components, or employing patterns that encapsulate interchangeable behaviors, you can replace or modify components dynamically, enhancing the flexibility and adaptability of your system.These approaches provide flexibility by allowing components to be replaced or modified dynamically at runtime, promoting a more adaptable and maintainable system. The choice of which approach to use depends on the specific requirements and design goals of the application."
   ]
  },
  {
   "cell_type": "code",
   "execution_count": 88,
   "id": "97c35cb7-1e1d-46ae-8b69-830315535a2d",
   "metadata": {},
   "outputs": [
    {
     "name": "stdout",
     "output_type": "stream",
     "text": [
      "Alice posted: Hello, everyone!\n",
      "Comments:\n",
      "Alice: Hi, Alice!\n",
      "Alice: Nice post!\n",
      "Bob posted: Python is awesome!\n",
      "Comments:\n",
      "Bob: Totally agree!\n"
     ]
    }
   ],
   "source": [
    "#####     20\n",
    "class Comment:\n",
    "  def __init__(self, user, content):\n",
    "      self.user = user\n",
    "      self.content = content\n",
    "\n",
    "  def display(self):\n",
    "      print(f\"{self.user.username}: {self.content}\")\n",
    "\n",
    "class Post:\n",
    "  def __init__(self, user, content):\n",
    "      self.user = user\n",
    "      self.content = content\n",
    "      self.comments = []\n",
    "\n",
    "  def add_comment(self, comment_content):\n",
    "      comment = Comment(user=self.user, content=comment_content)\n",
    "      self.comments.append(comment)\n",
    "\n",
    "  def display(self):\n",
    "      print(f\"{self.user.username} posted: {self.content}\")\n",
    "      print(\"Comments:\")\n",
    "      for comment in self.comments:\n",
    "          comment.display()\n",
    "\n",
    "class User:\n",
    "  def __init__(self, username):\n",
    "      self.username = username\n",
    "      self.posts = []\n",
    "\n",
    "  def create_post(self, post_content):\n",
    "      post = Post(user=self, content=post_content)\n",
    "      self.posts.append(post)\n",
    "      return post\n",
    "\n",
    "# Example usage:\n",
    "user1 = User(username=\"Alice\")\n",
    "user2 = User(username=\"Bob\")\n",
    "\n",
    "post1 = user1.create_post(\"Hello, everyone!\")\n",
    "post1.add_comment(\"Hi, Alice!\")\n",
    "post1.add_comment(\"Nice post!\")\n",
    "\n",
    "post2 = user2.create_post(\"Python is awesome!\")\n",
    "post2.add_comment(\"Totally agree!\")\n",
    "\n",
    "# Display posts and comments\n",
    "for post in user1.posts + user2.posts:\n",
    "  post.display()"
   ]
  }
 ],
 "metadata": {
  "kernelspec": {
   "display_name": "Python 3 (ipykernel)",
   "language": "python",
   "name": "python3"
  },
  "language_info": {
   "codemirror_mode": {
    "name": "ipython",
    "version": 3
   },
   "file_extension": ".py",
   "mimetype": "text/x-python",
   "name": "python",
   "nbconvert_exporter": "python",
   "pygments_lexer": "ipython3",
   "version": "3.10.8"
  }
 },
 "nbformat": 4,
 "nbformat_minor": 5
}
